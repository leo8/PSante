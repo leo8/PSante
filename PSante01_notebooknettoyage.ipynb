{
 "cells": [
  {
   "cell_type": "code",
   "execution_count": 1,
   "id": "cc4dc3d5",
   "metadata": {},
   "outputs": [],
   "source": [
    "#Import des bibliothèques et librairies nécessaires\n",
    "\n",
    "import pandas as pd\n",
    "import numpy as np\n",
    "import matplotlib.pyplot as plt\n",
    "import seaborn as sns"
   ]
  },
  {
   "cell_type": "code",
   "execution_count": 2,
   "id": "6615c16a",
   "metadata": {},
   "outputs": [],
   "source": [
    "#On lit le fichier .csv dans un Dataframe\n",
    "\n",
    "raw_data = pd.read_csv('fr.openfoodfacts.org.products.csv', sep='\\t', low_memory=False)"
   ]
  },
  {
   "cell_type": "code",
   "execution_count": 3,
   "id": "30edcc38",
   "metadata": {},
   "outputs": [
    {
     "data": {
      "text/html": [
       "<div>\n",
       "<style scoped>\n",
       "    .dataframe tbody tr th:only-of-type {\n",
       "        vertical-align: middle;\n",
       "    }\n",
       "\n",
       "    .dataframe tbody tr th {\n",
       "        vertical-align: top;\n",
       "    }\n",
       "\n",
       "    .dataframe thead th {\n",
       "        text-align: right;\n",
       "    }\n",
       "</style>\n",
       "<table border=\"1\" class=\"dataframe\">\n",
       "  <thead>\n",
       "    <tr style=\"text-align: right;\">\n",
       "      <th></th>\n",
       "      <th>code</th>\n",
       "      <th>url</th>\n",
       "      <th>creator</th>\n",
       "      <th>created_t</th>\n",
       "      <th>created_datetime</th>\n",
       "      <th>last_modified_t</th>\n",
       "      <th>last_modified_datetime</th>\n",
       "      <th>product_name</th>\n",
       "      <th>generic_name</th>\n",
       "      <th>quantity</th>\n",
       "      <th>...</th>\n",
       "      <th>ph_100g</th>\n",
       "      <th>fruits-vegetables-nuts_100g</th>\n",
       "      <th>collagen-meat-protein-ratio_100g</th>\n",
       "      <th>cocoa_100g</th>\n",
       "      <th>chlorophyl_100g</th>\n",
       "      <th>carbon-footprint_100g</th>\n",
       "      <th>nutrition-score-fr_100g</th>\n",
       "      <th>nutrition-score-uk_100g</th>\n",
       "      <th>glycemic-index_100g</th>\n",
       "      <th>water-hardness_100g</th>\n",
       "    </tr>\n",
       "  </thead>\n",
       "  <tbody>\n",
       "    <tr>\n",
       "      <th>0</th>\n",
       "      <td>0000000003087</td>\n",
       "      <td>http://world-fr.openfoodfacts.org/produit/0000...</td>\n",
       "      <td>openfoodfacts-contributors</td>\n",
       "      <td>1474103866</td>\n",
       "      <td>2016-09-17T09:17:46Z</td>\n",
       "      <td>1474103893</td>\n",
       "      <td>2016-09-17T09:18:13Z</td>\n",
       "      <td>Farine de blé noir</td>\n",
       "      <td>NaN</td>\n",
       "      <td>1kg</td>\n",
       "      <td>...</td>\n",
       "      <td>NaN</td>\n",
       "      <td>NaN</td>\n",
       "      <td>NaN</td>\n",
       "      <td>NaN</td>\n",
       "      <td>NaN</td>\n",
       "      <td>NaN</td>\n",
       "      <td>NaN</td>\n",
       "      <td>NaN</td>\n",
       "      <td>NaN</td>\n",
       "      <td>NaN</td>\n",
       "    </tr>\n",
       "    <tr>\n",
       "      <th>1</th>\n",
       "      <td>0000000004530</td>\n",
       "      <td>http://world-fr.openfoodfacts.org/produit/0000...</td>\n",
       "      <td>usda-ndb-import</td>\n",
       "      <td>1489069957</td>\n",
       "      <td>2017-03-09T14:32:37Z</td>\n",
       "      <td>1489069957</td>\n",
       "      <td>2017-03-09T14:32:37Z</td>\n",
       "      <td>Banana Chips Sweetened (Whole)</td>\n",
       "      <td>NaN</td>\n",
       "      <td>NaN</td>\n",
       "      <td>...</td>\n",
       "      <td>NaN</td>\n",
       "      <td>NaN</td>\n",
       "      <td>NaN</td>\n",
       "      <td>NaN</td>\n",
       "      <td>NaN</td>\n",
       "      <td>NaN</td>\n",
       "      <td>14.0</td>\n",
       "      <td>14.0</td>\n",
       "      <td>NaN</td>\n",
       "      <td>NaN</td>\n",
       "    </tr>\n",
       "    <tr>\n",
       "      <th>2</th>\n",
       "      <td>0000000004559</td>\n",
       "      <td>http://world-fr.openfoodfacts.org/produit/0000...</td>\n",
       "      <td>usda-ndb-import</td>\n",
       "      <td>1489069957</td>\n",
       "      <td>2017-03-09T14:32:37Z</td>\n",
       "      <td>1489069957</td>\n",
       "      <td>2017-03-09T14:32:37Z</td>\n",
       "      <td>Peanuts</td>\n",
       "      <td>NaN</td>\n",
       "      <td>NaN</td>\n",
       "      <td>...</td>\n",
       "      <td>NaN</td>\n",
       "      <td>NaN</td>\n",
       "      <td>NaN</td>\n",
       "      <td>NaN</td>\n",
       "      <td>NaN</td>\n",
       "      <td>NaN</td>\n",
       "      <td>0.0</td>\n",
       "      <td>0.0</td>\n",
       "      <td>NaN</td>\n",
       "      <td>NaN</td>\n",
       "    </tr>\n",
       "    <tr>\n",
       "      <th>3</th>\n",
       "      <td>0000000016087</td>\n",
       "      <td>http://world-fr.openfoodfacts.org/produit/0000...</td>\n",
       "      <td>usda-ndb-import</td>\n",
       "      <td>1489055731</td>\n",
       "      <td>2017-03-09T10:35:31Z</td>\n",
       "      <td>1489055731</td>\n",
       "      <td>2017-03-09T10:35:31Z</td>\n",
       "      <td>Organic Salted Nut Mix</td>\n",
       "      <td>NaN</td>\n",
       "      <td>NaN</td>\n",
       "      <td>...</td>\n",
       "      <td>NaN</td>\n",
       "      <td>NaN</td>\n",
       "      <td>NaN</td>\n",
       "      <td>NaN</td>\n",
       "      <td>NaN</td>\n",
       "      <td>NaN</td>\n",
       "      <td>12.0</td>\n",
       "      <td>12.0</td>\n",
       "      <td>NaN</td>\n",
       "      <td>NaN</td>\n",
       "    </tr>\n",
       "    <tr>\n",
       "      <th>4</th>\n",
       "      <td>0000000016094</td>\n",
       "      <td>http://world-fr.openfoodfacts.org/produit/0000...</td>\n",
       "      <td>usda-ndb-import</td>\n",
       "      <td>1489055653</td>\n",
       "      <td>2017-03-09T10:34:13Z</td>\n",
       "      <td>1489055653</td>\n",
       "      <td>2017-03-09T10:34:13Z</td>\n",
       "      <td>Organic Polenta</td>\n",
       "      <td>NaN</td>\n",
       "      <td>NaN</td>\n",
       "      <td>...</td>\n",
       "      <td>NaN</td>\n",
       "      <td>NaN</td>\n",
       "      <td>NaN</td>\n",
       "      <td>NaN</td>\n",
       "      <td>NaN</td>\n",
       "      <td>NaN</td>\n",
       "      <td>NaN</td>\n",
       "      <td>NaN</td>\n",
       "      <td>NaN</td>\n",
       "      <td>NaN</td>\n",
       "    </tr>\n",
       "  </tbody>\n",
       "</table>\n",
       "<p>5 rows × 162 columns</p>\n",
       "</div>"
      ],
      "text/plain": [
       "            code                                                url  \\\n",
       "0  0000000003087  http://world-fr.openfoodfacts.org/produit/0000...   \n",
       "1  0000000004530  http://world-fr.openfoodfacts.org/produit/0000...   \n",
       "2  0000000004559  http://world-fr.openfoodfacts.org/produit/0000...   \n",
       "3  0000000016087  http://world-fr.openfoodfacts.org/produit/0000...   \n",
       "4  0000000016094  http://world-fr.openfoodfacts.org/produit/0000...   \n",
       "\n",
       "                      creator   created_t      created_datetime  \\\n",
       "0  openfoodfacts-contributors  1474103866  2016-09-17T09:17:46Z   \n",
       "1             usda-ndb-import  1489069957  2017-03-09T14:32:37Z   \n",
       "2             usda-ndb-import  1489069957  2017-03-09T14:32:37Z   \n",
       "3             usda-ndb-import  1489055731  2017-03-09T10:35:31Z   \n",
       "4             usda-ndb-import  1489055653  2017-03-09T10:34:13Z   \n",
       "\n",
       "  last_modified_t last_modified_datetime                    product_name  \\\n",
       "0      1474103893   2016-09-17T09:18:13Z              Farine de blé noir   \n",
       "1      1489069957   2017-03-09T14:32:37Z  Banana Chips Sweetened (Whole)   \n",
       "2      1489069957   2017-03-09T14:32:37Z                         Peanuts   \n",
       "3      1489055731   2017-03-09T10:35:31Z          Organic Salted Nut Mix   \n",
       "4      1489055653   2017-03-09T10:34:13Z                 Organic Polenta   \n",
       "\n",
       "  generic_name quantity  ... ph_100g fruits-vegetables-nuts_100g  \\\n",
       "0          NaN      1kg  ...     NaN                         NaN   \n",
       "1          NaN      NaN  ...     NaN                         NaN   \n",
       "2          NaN      NaN  ...     NaN                         NaN   \n",
       "3          NaN      NaN  ...     NaN                         NaN   \n",
       "4          NaN      NaN  ...     NaN                         NaN   \n",
       "\n",
       "  collagen-meat-protein-ratio_100g cocoa_100g chlorophyl_100g  \\\n",
       "0                              NaN        NaN             NaN   \n",
       "1                              NaN        NaN             NaN   \n",
       "2                              NaN        NaN             NaN   \n",
       "3                              NaN        NaN             NaN   \n",
       "4                              NaN        NaN             NaN   \n",
       "\n",
       "  carbon-footprint_100g nutrition-score-fr_100g nutrition-score-uk_100g  \\\n",
       "0                   NaN                     NaN                     NaN   \n",
       "1                   NaN                    14.0                    14.0   \n",
       "2                   NaN                     0.0                     0.0   \n",
       "3                   NaN                    12.0                    12.0   \n",
       "4                   NaN                     NaN                     NaN   \n",
       "\n",
       "  glycemic-index_100g water-hardness_100g  \n",
       "0                 NaN                 NaN  \n",
       "1                 NaN                 NaN  \n",
       "2                 NaN                 NaN  \n",
       "3                 NaN                 NaN  \n",
       "4                 NaN                 NaN  \n",
       "\n",
       "[5 rows x 162 columns]"
      ]
     },
     "execution_count": 3,
     "metadata": {},
     "output_type": "execute_result"
    }
   ],
   "source": [
    "raw_data.head()"
   ]
  },
  {
   "cell_type": "markdown",
   "id": "94b810b1",
   "metadata": {},
   "source": [
    "On reset l'index par défaut."
   ]
  },
  {
   "cell_type": "code",
   "execution_count": 4,
   "id": "7d256615",
   "metadata": {},
   "outputs": [],
   "source": [
    "raw_data.reset_index(inplace=True)"
   ]
  },
  {
   "cell_type": "markdown",
   "id": "d10e643d",
   "metadata": {},
   "source": [
    "On regarde les caractéristiques fondamentales du dataset :"
   ]
  },
  {
   "cell_type": "code",
   "execution_count": 5,
   "id": "fb20bec0",
   "metadata": {},
   "outputs": [
    {
     "data": {
      "text/plain": [
       "(320772, 163)"
      ]
     },
     "execution_count": 5,
     "metadata": {},
     "output_type": "execute_result"
    }
   ],
   "source": [
    "raw_data.shape"
   ]
  },
  {
   "cell_type": "code",
   "execution_count": 6,
   "id": "43321ac5",
   "metadata": {},
   "outputs": [
    {
     "data": {
      "text/plain": [
       "float64    106\n",
       "object      56\n",
       "int64        1\n",
       "dtype: int64"
      ]
     },
     "execution_count": 6,
     "metadata": {},
     "output_type": "execute_result"
    }
   ],
   "source": [
    "raw_data.dtypes.value_counts()"
   ]
  },
  {
   "cell_type": "code",
   "execution_count": 7,
   "id": "3a5f5d95",
   "metadata": {},
   "outputs": [
    {
     "data": {
      "text/plain": [
       "<AxesSubplot:>"
      ]
     },
     "execution_count": 7,
     "metadata": {},
     "output_type": "execute_result"
    },
    {
     "data": {
      "image/png": "[encoded data removed]",
      "text/plain": [
       "<Figure size 1440x720 with 1 Axes>"
      ]
     },
     "metadata": {
      "needs_background": "light"
     },
     "output_type": "display_data"
    }
   ],
   "source": [
    "plt.figure(figsize=(20,10))\n",
    "sns.heatmap(raw_data.isna(), cbar=False)"
   ]
  },
  {
   "cell_type": "markdown",
   "id": "c2fd2b55",
   "metadata": {},
   "source": [
    "On a un nombre très important de variables - 163 - dont certaines ne sont presque pas renseignées.\n",
    "\n",
    "La première étape du nettoyage de nos données va donc consister à écarter les variables qui ne nous intéressent pas. Quelles sont les variables qui nous intéressent vraiment ?\n",
    "\n",
    "    - Quelques informations d'ordre général (created_datetime, last_modified_datetime, product_name, main_category);\n",
    "    - Des informations géographiques sur le produit (origins, manufacturing places, cities, countries);\n",
    "    - Les indicateurs de qualité du produit (carbon-footprint_100g, nutrition-score-fr_100g);\n",
    "    - Quelques informations nutritionnelles (pnns_groups_2, additives_n, sugars_100g, proteins_100g, salt_100g, energy-ckal_100g, fat_100g, cholesterol_100g, -soluble-fiber_100g, carbohydrates)."
   ]
  },
  {
   "cell_type": "code",
   "execution_count": 8,
   "id": "f8a4d33a",
   "metadata": {},
   "outputs": [],
   "source": [
    "#On crée une liste contenant le nom des colonnes à conserver\n",
    "\n",
    "tosave_columns = ['created_datetime', \n",
    "                  'last_modified_datetime', \n",
    "                  'product_name',\n",
    "                  'main_category',\n",
    "                  'origins', \n",
    "                  'manufacturing_places', \n",
    "                  'cities', \n",
    "                  'countries',\n",
    "                  'carbon-footprint_100g', \n",
    "                  'nutrition-score-fr_100g',\n",
    "                  'pnns_groups_2',\n",
    "                  'additives_n',\n",
    "                  'sugars_100g',\n",
    "                  'proteins_100g',\n",
    "                  'salt_100g',\n",
    "                  'energy_100g',\n",
    "                  'fat_100g',\n",
    "                  'cholesterol_100g',\n",
    "                  'fiber_100g',\n",
    "                  'carbohydrates_100g'\n",
    "                 ]"
   ]
  },
  {
   "cell_type": "code",
   "execution_count": 9,
   "id": "feb5b240",
   "metadata": {},
   "outputs": [
    {
     "data": {
      "text/html": [
       "<div>\n",
       "<style scoped>\n",
       "    .dataframe tbody tr th:only-of-type {\n",
       "        vertical-align: middle;\n",
       "    }\n",
       "\n",
       "    .dataframe tbody tr th {\n",
       "        vertical-align: top;\n",
       "    }\n",
       "\n",
       "    .dataframe thead th {\n",
       "        text-align: right;\n",
       "    }\n",
       "</style>\n",
       "<table border=\"1\" class=\"dataframe\">\n",
       "  <thead>\n",
       "    <tr style=\"text-align: right;\">\n",
       "      <th></th>\n",
       "      <th>created_datetime</th>\n",
       "      <th>last_modified_datetime</th>\n",
       "      <th>product_name</th>\n",
       "      <th>main_category</th>\n",
       "      <th>origins</th>\n",
       "      <th>manufacturing_places</th>\n",
       "      <th>cities</th>\n",
       "      <th>countries</th>\n",
       "      <th>carbon-footprint_100g</th>\n",
       "      <th>nutrition-score-fr_100g</th>\n",
       "      <th>pnns_groups_2</th>\n",
       "      <th>additives_n</th>\n",
       "      <th>sugars_100g</th>\n",
       "      <th>proteins_100g</th>\n",
       "      <th>salt_100g</th>\n",
       "      <th>energy_100g</th>\n",
       "      <th>fat_100g</th>\n",
       "      <th>cholesterol_100g</th>\n",
       "      <th>fiber_100g</th>\n",
       "      <th>carbohydrates_100g</th>\n",
       "    </tr>\n",
       "  </thead>\n",
       "  <tbody>\n",
       "    <tr>\n",
       "      <th>0</th>\n",
       "      <td>2016-09-17T09:17:46Z</td>\n",
       "      <td>2016-09-17T09:18:13Z</td>\n",
       "      <td>Farine de blé noir</td>\n",
       "      <td>NaN</td>\n",
       "      <td>NaN</td>\n",
       "      <td>NaN</td>\n",
       "      <td>NaN</td>\n",
       "      <td>en:FR</td>\n",
       "      <td>NaN</td>\n",
       "      <td>NaN</td>\n",
       "      <td>NaN</td>\n",
       "      <td>NaN</td>\n",
       "      <td>NaN</td>\n",
       "      <td>NaN</td>\n",
       "      <td>NaN</td>\n",
       "      <td>NaN</td>\n",
       "      <td>NaN</td>\n",
       "      <td>NaN</td>\n",
       "      <td>NaN</td>\n",
       "      <td>NaN</td>\n",
       "    </tr>\n",
       "    <tr>\n",
       "      <th>1</th>\n",
       "      <td>2017-03-09T14:32:37Z</td>\n",
       "      <td>2017-03-09T14:32:37Z</td>\n",
       "      <td>Banana Chips Sweetened (Whole)</td>\n",
       "      <td>NaN</td>\n",
       "      <td>NaN</td>\n",
       "      <td>NaN</td>\n",
       "      <td>NaN</td>\n",
       "      <td>US</td>\n",
       "      <td>NaN</td>\n",
       "      <td>14.0</td>\n",
       "      <td>NaN</td>\n",
       "      <td>0.0</td>\n",
       "      <td>14.29</td>\n",
       "      <td>3.57</td>\n",
       "      <td>0.00000</td>\n",
       "      <td>2243.0</td>\n",
       "      <td>28.57</td>\n",
       "      <td>0.018</td>\n",
       "      <td>3.6</td>\n",
       "      <td>64.29</td>\n",
       "    </tr>\n",
       "    <tr>\n",
       "      <th>2</th>\n",
       "      <td>2017-03-09T14:32:37Z</td>\n",
       "      <td>2017-03-09T14:32:37Z</td>\n",
       "      <td>Peanuts</td>\n",
       "      <td>NaN</td>\n",
       "      <td>NaN</td>\n",
       "      <td>NaN</td>\n",
       "      <td>NaN</td>\n",
       "      <td>US</td>\n",
       "      <td>NaN</td>\n",
       "      <td>0.0</td>\n",
       "      <td>NaN</td>\n",
       "      <td>0.0</td>\n",
       "      <td>17.86</td>\n",
       "      <td>17.86</td>\n",
       "      <td>0.63500</td>\n",
       "      <td>1941.0</td>\n",
       "      <td>17.86</td>\n",
       "      <td>0.000</td>\n",
       "      <td>7.1</td>\n",
       "      <td>60.71</td>\n",
       "    </tr>\n",
       "    <tr>\n",
       "      <th>3</th>\n",
       "      <td>2017-03-09T10:35:31Z</td>\n",
       "      <td>2017-03-09T10:35:31Z</td>\n",
       "      <td>Organic Salted Nut Mix</td>\n",
       "      <td>NaN</td>\n",
       "      <td>NaN</td>\n",
       "      <td>NaN</td>\n",
       "      <td>NaN</td>\n",
       "      <td>US</td>\n",
       "      <td>NaN</td>\n",
       "      <td>12.0</td>\n",
       "      <td>NaN</td>\n",
       "      <td>0.0</td>\n",
       "      <td>3.57</td>\n",
       "      <td>17.86</td>\n",
       "      <td>1.22428</td>\n",
       "      <td>2540.0</td>\n",
       "      <td>57.14</td>\n",
       "      <td>NaN</td>\n",
       "      <td>7.1</td>\n",
       "      <td>17.86</td>\n",
       "    </tr>\n",
       "    <tr>\n",
       "      <th>4</th>\n",
       "      <td>2017-03-09T10:34:13Z</td>\n",
       "      <td>2017-03-09T10:34:13Z</td>\n",
       "      <td>Organic Polenta</td>\n",
       "      <td>NaN</td>\n",
       "      <td>NaN</td>\n",
       "      <td>NaN</td>\n",
       "      <td>NaN</td>\n",
       "      <td>US</td>\n",
       "      <td>NaN</td>\n",
       "      <td>NaN</td>\n",
       "      <td>NaN</td>\n",
       "      <td>0.0</td>\n",
       "      <td>NaN</td>\n",
       "      <td>8.57</td>\n",
       "      <td>NaN</td>\n",
       "      <td>1552.0</td>\n",
       "      <td>1.43</td>\n",
       "      <td>NaN</td>\n",
       "      <td>5.7</td>\n",
       "      <td>77.14</td>\n",
       "    </tr>\n",
       "  </tbody>\n",
       "</table>\n",
       "</div>"
      ],
      "text/plain": [
       "       created_datetime last_modified_datetime  \\\n",
       "0  2016-09-17T09:17:46Z   2016-09-17T09:18:13Z   \n",
       "1  2017-03-09T14:32:37Z   2017-03-09T14:32:37Z   \n",
       "2  2017-03-09T14:32:37Z   2017-03-09T14:32:37Z   \n",
       "3  2017-03-09T10:35:31Z   2017-03-09T10:35:31Z   \n",
       "4  2017-03-09T10:34:13Z   2017-03-09T10:34:13Z   \n",
       "\n",
       "                     product_name main_category origins manufacturing_places  \\\n",
       "0              Farine de blé noir           NaN     NaN                  NaN   \n",
       "1  Banana Chips Sweetened (Whole)           NaN     NaN                  NaN   \n",
       "2                         Peanuts           NaN     NaN                  NaN   \n",
       "3          Organic Salted Nut Mix           NaN     NaN                  NaN   \n",
       "4                 Organic Polenta           NaN     NaN                  NaN   \n",
       "\n",
       "  cities countries  carbon-footprint_100g  nutrition-score-fr_100g  \\\n",
       "0    NaN     en:FR                    NaN                      NaN   \n",
       "1    NaN        US                    NaN                     14.0   \n",
       "2    NaN        US                    NaN                      0.0   \n",
       "3    NaN        US                    NaN                     12.0   \n",
       "4    NaN        US                    NaN                      NaN   \n",
       "\n",
       "  pnns_groups_2  additives_n  sugars_100g  proteins_100g  salt_100g  \\\n",
       "0           NaN          NaN          NaN            NaN        NaN   \n",
       "1           NaN          0.0        14.29           3.57    0.00000   \n",
       "2           NaN          0.0        17.86          17.86    0.63500   \n",
       "3           NaN          0.0         3.57          17.86    1.22428   \n",
       "4           NaN          0.0          NaN           8.57        NaN   \n",
       "\n",
       "   energy_100g  fat_100g  cholesterol_100g  fiber_100g  carbohydrates_100g  \n",
       "0          NaN       NaN               NaN         NaN                 NaN  \n",
       "1       2243.0     28.57             0.018         3.6               64.29  \n",
       "2       1941.0     17.86             0.000         7.1               60.71  \n",
       "3       2540.0     57.14               NaN         7.1               17.86  \n",
       "4       1552.0      1.43               NaN         5.7               77.14  "
      ]
     },
     "execution_count": 9,
     "metadata": {},
     "output_type": "execute_result"
    }
   ],
   "source": [
    "#On crée un nouveau Dataframe en conservant les colonnes listées\n",
    "\n",
    "data = raw_data[tosave_columns]\n",
    "data.head()"
   ]
  },
  {
   "cell_type": "markdown",
   "id": "b5968eff",
   "metadata": {},
   "source": [
    "Pour la colonne pnns_groups_2, certaines valeurs manquantes sont notées unknown, et pas Nan. Rectifions cela."
   ]
  },
  {
   "cell_type": "code",
   "execution_count": 10,
   "id": "967fa4fc",
   "metadata": {},
   "outputs": [
    {
     "name": "stderr",
     "output_type": "stream",
     "text": [
      "/Users/leodray/opt/anaconda3/lib/python3.8/site-packages/pandas/core/frame.py:4524: SettingWithCopyWarning: \n",
      "A value is trying to be set on a copy of a slice from a DataFrame\n",
      "\n",
      "See the caveats in the documentation: https://pandas.pydata.org/pandas-docs/stable/user_guide/indexing.html#returning-a-view-versus-a-copy\n",
      "  return super().replace(\n"
     ]
    }
   ],
   "source": [
    "data.replace('unknown', np.nan, inplace=True)"
   ]
  },
  {
   "cell_type": "markdown",
   "id": "43d9bfc7",
   "metadata": {},
   "source": [
    "Regardons désormais les valeurs manquantes de notre dataframe."
   ]
  },
  {
   "cell_type": "code",
   "execution_count": 11,
   "id": "b62778a4",
   "metadata": {},
   "outputs": [
    {
     "data": {
      "text/plain": [
       "cities                     0.999928\n",
       "carbon-footprint_100g      0.999165\n",
       "origins                    0.930823\n",
       "manufacturing_places       0.886209\n",
       "pnns_groups_2              0.775956\n",
       "main_category              0.736991\n",
       "cholesterol_100g           0.550802\n",
       "fiber_100g                 0.373742\n",
       "nutrition-score-fr_100g    0.310382\n",
       "carbohydrates_100g         0.240620\n",
       "fat_100g                   0.239675\n",
       "sugars_100g                0.236308\n",
       "additives_n                0.223938\n",
       "salt_100g                  0.203453\n",
       "proteins_100g              0.189699\n",
       "energy_100g                0.185986\n",
       "product_name               0.055373\n",
       "countries                  0.000873\n",
       "created_datetime           0.000028\n",
       "last_modified_datetime     0.000000\n",
       "dtype: float64"
      ]
     },
     "execution_count": 11,
     "metadata": {},
     "output_type": "execute_result"
    }
   ],
   "source": [
    "#On regarde le pourcentage de valeurs manquantes pour chaque colonne\n",
    "\n",
    "(data.isna().sum()/data.shape[0]).sort_values(ascending=False)"
   ]
  },
  {
   "cell_type": "markdown",
   "id": "66c2e148",
   "metadata": {},
   "source": [
    "A partir de là, il va falloir prendre quelques décisions :\n",
    "\n",
    "    - Supprimer les colonnes cities, carbon-footprint_100g, origins, et manufacturing_places qui ont plus de 90% de valeurs manquantes;\n",
    "    - Choisir l'une ou l'autre des variables main_category et pnns_groups_2, qui correspondent toutes deux à la catégorie du produit. Nous choisirons main_category qui présente environ 5% de valeurs renseignées en plus, et qui possède une meilleure granularité que pnns_groups_2, et donc une information plus fine.\n",
    "    - Regarder si le taux de valeur manquante est inférieur pour la variante anglaise du score de nutrition, et le cas échéant, remmplacer la variable nutrition-score-fr_100g."
   ]
  },
  {
   "cell_type": "code",
   "execution_count": 12,
   "id": "3e5f236b",
   "metadata": {},
   "outputs": [
    {
     "name": "stderr",
     "output_type": "stream",
     "text": [
      "/Users/leodray/opt/anaconda3/lib/python3.8/site-packages/pandas/core/frame.py:4308: SettingWithCopyWarning: \n",
      "A value is trying to be set on a copy of a slice from a DataFrame\n",
      "\n",
      "See the caveats in the documentation: https://pandas.pydata.org/pandas-docs/stable/user_guide/indexing.html#returning-a-view-versus-a-copy\n",
      "  return super().drop(\n"
     ]
    }
   ],
   "source": [
    "#On supprime les colonnes qui contiennent trop de valeurs manquantes\n",
    "\n",
    "data.drop(['cities', 'carbon-footprint_100g', 'origins', 'manufacturing_places', 'pnns_groups_2'], axis=1, inplace=True)"
   ]
  },
  {
   "cell_type": "code",
   "execution_count": 13,
   "id": "f4c7c5fd",
   "metadata": {},
   "outputs": [
    {
     "data": {
      "text/plain": [
       "0.31038245233374484"
      ]
     },
     "execution_count": 13,
     "metadata": {},
     "output_type": "execute_result"
    }
   ],
   "source": [
    "#On regarde le taux de valeurs manquantes pour 'nutrition-score-uk_100g'\n",
    "\n",
    "raw_data['nutrition-score-uk_100g'].isna().sum()/raw_data.shape[0]"
   ]
  },
  {
   "cell_type": "markdown",
   "id": "ab9a4b71",
   "metadata": {},
   "source": [
    "On a le même taux de valeurs manquantés avec 'nutrition-score-fr_100g'. On garde donc notre Dataframe en l'état."
   ]
  },
  {
   "cell_type": "code",
   "execution_count": 14,
   "id": "31ca06b9",
   "metadata": {
    "scrolled": true
   },
   "outputs": [
    {
     "data": {
      "text/html": [
       "<div>\n",
       "<style scoped>\n",
       "    .dataframe tbody tr th:only-of-type {\n",
       "        vertical-align: middle;\n",
       "    }\n",
       "\n",
       "    .dataframe tbody tr th {\n",
       "        vertical-align: top;\n",
       "    }\n",
       "\n",
       "    .dataframe thead th {\n",
       "        text-align: right;\n",
       "    }\n",
       "</style>\n",
       "<table border=\"1\" class=\"dataframe\">\n",
       "  <thead>\n",
       "    <tr style=\"text-align: right;\">\n",
       "      <th></th>\n",
       "      <th>created_datetime</th>\n",
       "      <th>last_modified_datetime</th>\n",
       "      <th>product_name</th>\n",
       "      <th>main_category</th>\n",
       "      <th>countries</th>\n",
       "      <th>nutrition-score-fr_100g</th>\n",
       "      <th>additives_n</th>\n",
       "      <th>sugars_100g</th>\n",
       "      <th>proteins_100g</th>\n",
       "      <th>salt_100g</th>\n",
       "      <th>energy_100g</th>\n",
       "      <th>fat_100g</th>\n",
       "      <th>cholesterol_100g</th>\n",
       "      <th>fiber_100g</th>\n",
       "      <th>carbohydrates_100g</th>\n",
       "    </tr>\n",
       "  </thead>\n",
       "  <tbody>\n",
       "    <tr>\n",
       "      <th>0</th>\n",
       "      <td>2016-09-17T09:17:46Z</td>\n",
       "      <td>2016-09-17T09:18:13Z</td>\n",
       "      <td>Farine de blé noir</td>\n",
       "      <td>NaN</td>\n",
       "      <td>en:FR</td>\n",
       "      <td>NaN</td>\n",
       "      <td>NaN</td>\n",
       "      <td>NaN</td>\n",
       "      <td>NaN</td>\n",
       "      <td>NaN</td>\n",
       "      <td>NaN</td>\n",
       "      <td>NaN</td>\n",
       "      <td>NaN</td>\n",
       "      <td>NaN</td>\n",
       "      <td>NaN</td>\n",
       "    </tr>\n",
       "    <tr>\n",
       "      <th>1</th>\n",
       "      <td>2017-03-09T14:32:37Z</td>\n",
       "      <td>2017-03-09T14:32:37Z</td>\n",
       "      <td>Banana Chips Sweetened (Whole)</td>\n",
       "      <td>NaN</td>\n",
       "      <td>US</td>\n",
       "      <td>14.0</td>\n",
       "      <td>0.0</td>\n",
       "      <td>14.29</td>\n",
       "      <td>3.57</td>\n",
       "      <td>0.00000</td>\n",
       "      <td>2243.0</td>\n",
       "      <td>28.57</td>\n",
       "      <td>0.018</td>\n",
       "      <td>3.6</td>\n",
       "      <td>64.29</td>\n",
       "    </tr>\n",
       "    <tr>\n",
       "      <th>2</th>\n",
       "      <td>2017-03-09T14:32:37Z</td>\n",
       "      <td>2017-03-09T14:32:37Z</td>\n",
       "      <td>Peanuts</td>\n",
       "      <td>NaN</td>\n",
       "      <td>US</td>\n",
       "      <td>0.0</td>\n",
       "      <td>0.0</td>\n",
       "      <td>17.86</td>\n",
       "      <td>17.86</td>\n",
       "      <td>0.63500</td>\n",
       "      <td>1941.0</td>\n",
       "      <td>17.86</td>\n",
       "      <td>0.000</td>\n",
       "      <td>7.1</td>\n",
       "      <td>60.71</td>\n",
       "    </tr>\n",
       "    <tr>\n",
       "      <th>3</th>\n",
       "      <td>2017-03-09T10:35:31Z</td>\n",
       "      <td>2017-03-09T10:35:31Z</td>\n",
       "      <td>Organic Salted Nut Mix</td>\n",
       "      <td>NaN</td>\n",
       "      <td>US</td>\n",
       "      <td>12.0</td>\n",
       "      <td>0.0</td>\n",
       "      <td>3.57</td>\n",
       "      <td>17.86</td>\n",
       "      <td>1.22428</td>\n",
       "      <td>2540.0</td>\n",
       "      <td>57.14</td>\n",
       "      <td>NaN</td>\n",
       "      <td>7.1</td>\n",
       "      <td>17.86</td>\n",
       "    </tr>\n",
       "    <tr>\n",
       "      <th>4</th>\n",
       "      <td>2017-03-09T10:34:13Z</td>\n",
       "      <td>2017-03-09T10:34:13Z</td>\n",
       "      <td>Organic Polenta</td>\n",
       "      <td>NaN</td>\n",
       "      <td>US</td>\n",
       "      <td>NaN</td>\n",
       "      <td>0.0</td>\n",
       "      <td>NaN</td>\n",
       "      <td>8.57</td>\n",
       "      <td>NaN</td>\n",
       "      <td>1552.0</td>\n",
       "      <td>1.43</td>\n",
       "      <td>NaN</td>\n",
       "      <td>5.7</td>\n",
       "      <td>77.14</td>\n",
       "    </tr>\n",
       "  </tbody>\n",
       "</table>\n",
       "</div>"
      ],
      "text/plain": [
       "       created_datetime last_modified_datetime  \\\n",
       "0  2016-09-17T09:17:46Z   2016-09-17T09:18:13Z   \n",
       "1  2017-03-09T14:32:37Z   2017-03-09T14:32:37Z   \n",
       "2  2017-03-09T14:32:37Z   2017-03-09T14:32:37Z   \n",
       "3  2017-03-09T10:35:31Z   2017-03-09T10:35:31Z   \n",
       "4  2017-03-09T10:34:13Z   2017-03-09T10:34:13Z   \n",
       "\n",
       "                     product_name main_category countries  \\\n",
       "0              Farine de blé noir           NaN     en:FR   \n",
       "1  Banana Chips Sweetened (Whole)           NaN        US   \n",
       "2                         Peanuts           NaN        US   \n",
       "3          Organic Salted Nut Mix           NaN        US   \n",
       "4                 Organic Polenta           NaN        US   \n",
       "\n",
       "   nutrition-score-fr_100g  additives_n  sugars_100g  proteins_100g  \\\n",
       "0                      NaN          NaN          NaN            NaN   \n",
       "1                     14.0          0.0        14.29           3.57   \n",
       "2                      0.0          0.0        17.86          17.86   \n",
       "3                     12.0          0.0         3.57          17.86   \n",
       "4                      NaN          0.0          NaN           8.57   \n",
       "\n",
       "   salt_100g  energy_100g  fat_100g  cholesterol_100g  fiber_100g  \\\n",
       "0        NaN          NaN       NaN               NaN         NaN   \n",
       "1    0.00000       2243.0     28.57             0.018         3.6   \n",
       "2    0.63500       1941.0     17.86             0.000         7.1   \n",
       "3    1.22428       2540.0     57.14               NaN         7.1   \n",
       "4        NaN       1552.0      1.43               NaN         5.7   \n",
       "\n",
       "   carbohydrates_100g  \n",
       "0                 NaN  \n",
       "1               64.29  \n",
       "2               60.71  \n",
       "3               17.86  \n",
       "4               77.14  "
      ]
     },
     "execution_count": 14,
     "metadata": {},
     "output_type": "execute_result"
    }
   ],
   "source": [
    "data.head()"
   ]
  },
  {
   "cell_type": "markdown",
   "id": "f705b164",
   "metadata": {},
   "source": [
    "Commençons par traiter la question des outliers, c'est-à-dire des éventuelles valeurs aberrantes qu'on peut rencontrer dans le dataset, pour les variables numériques. Nous allons commencer par utiliser les percentiles pour zoomer sur les valeurs extrêmes de nos données. Puis nous généraliserons pour créer une fonction permettant de supprimer les outliers."
   ]
  },
  {
   "cell_type": "code",
   "execution_count": 15,
   "id": "4c9113fd",
   "metadata": {},
   "outputs": [],
   "source": [
    "numerical_col = ['additives_n',\n",
    "                 'sugars_100g',\n",
    "                 'proteins_100g',\n",
    "                 'salt_100g',\n",
    "                 'energy_100g',\n",
    "                 'fat_100g',\n",
    "                 'cholesterol_100g',\n",
    "                 'fiber_100g',\n",
    "                 'carbohydrates_100g'\n",
    "                ]\n",
    "                 "
   ]
  },
  {
   "cell_type": "code",
   "execution_count": 16,
   "id": "83104f08",
   "metadata": {},
   "outputs": [],
   "source": [
    "threshold_dic = {}\n",
    "\n",
    "for col in numerical_col:\n",
    "    min_threshold, max_threshold = data[col].quantile([0.001, 0.999])\n",
    "    threshold_dic[col] = (min_threshold, max_threshold)"
   ]
  },
  {
   "cell_type": "code",
   "execution_count": 17,
   "id": "8f6beb52",
   "metadata": {},
   "outputs": [
    {
     "name": "stdout",
     "output_type": "stream",
     "text": [
      "additives_n---------------------------------------(0.0, 18.0)\n",
      "sugars_100g---------------------------------------(0.0, 100.0)\n",
      "proteins_100g-------------------------------------(0.0, 64.29)\n",
      "salt_100g-----------------------------------------(0.0, 99.90582)\n",
      "energy_100g---------------------------------------(0.0, 3887.0)\n",
      "fat_100g------------------------------------------(0.0, 100.0)\n",
      "cholesterol_100g----------------------------------(0.0, 0.373)\n",
      "fiber_100g----------------------------------------(0.0, 44.4)\n",
      "carbohydrates_100g--------------------------------(0.0, 100.0)\n"
     ]
    }
   ],
   "source": [
    "for k in threshold_dic:\n",
    "    print(f'{k :-<50}{threshold_dic[k]}')"
   ]
  },
  {
   "cell_type": "markdown",
   "id": "b5239407",
   "metadata": {},
   "source": [
    "On traite la colonne nutrition-score-fr_100g à part."
   ]
  },
  {
   "cell_type": "code",
   "execution_count": 18,
   "id": "e34fc599",
   "metadata": {},
   "outputs": [
    {
     "data": {
      "text/plain": [
       "0.001   -10.0\n",
       "0.999    32.0\n",
       "Name: nutrition-score-fr_100g, dtype: float64"
      ]
     },
     "execution_count": 18,
     "metadata": {},
     "output_type": "execute_result"
    }
   ],
   "source": [
    "data['nutrition-score-fr_100g'].quantile([0.001, 0.999])"
   ]
  },
  {
   "cell_type": "markdown",
   "id": "79c4d6f3",
   "metadata": {},
   "source": [
    "En consultant les différents seuils des valeurs pour chaque variable, on voit déjà les deux problèmes auxquels on va faire face : \n",
    "- Des valeurs supérieures à 100g pour les colonnes salt et sugar. Attention, pour certains produits, il est logique d'avoir une quantité de sel ou de sucre de 100g : respectivement pour le sel, et pour le sucre ! Ce n'est pas une valeur aberrante, même si elle est atypique. En revanche, on ne peut pas avoir 104g de sel pour 100g de produit. De même, les produits les plus énergétiques (huile de colza, huile d'avocat), font 900 kcal pour 100g. \n",
    "     \n",
    "- Des valeurs négatives pour la colonne nutrition-score-fr_100g qui amènent deux questions : Est-il possible d'avoir un score de nutrition négatif d'après la méthode de calcul employée ? Sinon, l'ajout de ces valeurs était-elle préalable à notre imputing ou a-t-on ajouté ces valeurs avec le KNN_imputing ?\n",
    "     \n",
    "     "
   ]
  },
  {
   "cell_type": "markdown",
   "id": "fab39922",
   "metadata": {},
   "source": [
    "En fait, les produits ayant des valeurs négatives existent (entre 0 et - 15). Ceux sont même ceux qui ont la meilleure note nutri score (A). Voici l'indice de notation : \n",
    "\n",
    "    Nutri-Score A : -15 à -1\n",
    "    Nutri-Score B : 0 à 2\n",
    "    Nutri-Score C : 3 à 10\n",
    "    Nutri-Score D : 11 à 18\n",
    "    Nutri-Score E : 19 à 40 \n",
    "    \n",
    "Il nous reste dont juste à traiter les valeurs aberrantes des variables numériques. Jetons un oeil à quelques valeurs."
   ]
  },
  {
   "cell_type": "code",
   "execution_count": 19,
   "id": "86da793a",
   "metadata": {},
   "outputs": [
    {
     "name": "stdout",
     "output_type": "stream",
     "text": [
      "created_datetime             2017-03-09T20:14:30Z\n",
      "last_modified_datetime       2017-03-09T20:14:30Z\n",
      "product_name               Mediterranean Sea Salt\n",
      "main_category                                 NaN\n",
      "countries                                      US\n",
      "nutrition-score-fr_100g                       NaN\n",
      "additives_n                                   0.0\n",
      "sugars_100g                                   NaN\n",
      "proteins_100g                                 0.0\n",
      "salt_100g                               105.83418\n",
      "energy_100g                                   0.0\n",
      "fat_100g                                      0.0\n",
      "cholesterol_100g                              NaN\n",
      "fiber_100g                                    NaN\n",
      "carbohydrates_100g                            0.0\n",
      "Name: 501, dtype: object\n",
      "created_datetime           2017-03-10T09:51:36Z\n",
      "last_modified_datetime     2017-03-10T09:51:36Z\n",
      "product_name                Dill Pickle Cashews\n",
      "main_category                               NaN\n",
      "countries                                    US\n",
      "nutrition-score-fr_100g                    21.0\n",
      "additives_n                                 1.0\n",
      "sugars_100g                                5.71\n",
      "proteins_100g                             17.14\n",
      "salt_100g                             870.85678\n",
      "energy_100g                              2389.0\n",
      "fat_100g                                  45.71\n",
      "cholesterol_100g                            0.0\n",
      "fiber_100g                                  5.7\n",
      "carbohydrates_100g                        28.57\n",
      "Name: 1435, dtype: object\n",
      "created_datetime           2017-03-09T12:55:04Z\n",
      "last_modified_datetime     2017-03-09T12:55:04Z\n",
      "product_name                 Coarse Kosher Salt\n",
      "main_category                               NaN\n",
      "countries                                    US\n",
      "nutrition-score-fr_100g                     NaN\n",
      "additives_n                                 1.0\n",
      "sugars_100g                                 NaN\n",
      "proteins_100g                               0.0\n",
      "salt_100g                                 101.6\n",
      "energy_100g                                 0.0\n",
      "fat_100g                                    0.0\n",
      "cholesterol_100g                            0.0\n",
      "fiber_100g                                  NaN\n",
      "carbohydrates_100g                          0.0\n",
      "Name: 3472, dtype: object\n"
     ]
    }
   ],
   "source": [
    "k=0\n",
    "for i, e in enumerate(data['salt_100g']):\n",
    "    if e > 100:\n",
    "        print(data.iloc[i])\n",
    "        k+=1\n",
    "    if k==3:\n",
    "        break"
   ]
  },
  {
   "cell_type": "code",
   "execution_count": 20,
   "id": "5deb9d31",
   "metadata": {},
   "outputs": [
    {
     "name": "stdout",
     "output_type": "stream",
     "text": [
      "created_datetime                     2017-03-09T14:32:37Z\n",
      "last_modified_datetime               2017-03-09T14:32:37Z\n",
      "product_name               Banana Chips Sweetened (Whole)\n",
      "main_category                                         NaN\n",
      "countries                                              US\n",
      "nutrition-score-fr_100g                              14.0\n",
      "additives_n                                           0.0\n",
      "sugars_100g                                         14.29\n",
      "proteins_100g                                        3.57\n",
      "salt_100g                                             0.0\n",
      "energy_100g                                        2243.0\n",
      "fat_100g                                            28.57\n",
      "cholesterol_100g                                    0.018\n",
      "fiber_100g                                            3.6\n",
      "carbohydrates_100g                                  64.29\n",
      "Name: 1, dtype: object\n",
      "1\n",
      "created_datetime           2017-03-09T14:32:37Z\n",
      "last_modified_datetime     2017-03-09T14:32:37Z\n",
      "product_name                            Peanuts\n",
      "main_category                               NaN\n",
      "countries                                    US\n",
      "nutrition-score-fr_100g                     0.0\n",
      "additives_n                                 0.0\n",
      "sugars_100g                               17.86\n",
      "proteins_100g                             17.86\n",
      "salt_100g                                 0.635\n",
      "energy_100g                              1941.0\n",
      "fat_100g                                  17.86\n",
      "cholesterol_100g                            0.0\n",
      "fiber_100g                                  7.1\n",
      "carbohydrates_100g                        60.71\n",
      "Name: 2, dtype: object\n",
      "2\n",
      "created_datetime             2017-03-09T10:35:31Z\n",
      "last_modified_datetime       2017-03-09T10:35:31Z\n",
      "product_name               Organic Salted Nut Mix\n",
      "main_category                                 NaN\n",
      "countries                                      US\n",
      "nutrition-score-fr_100g                      12.0\n",
      "additives_n                                   0.0\n",
      "sugars_100g                                  3.57\n",
      "proteins_100g                               17.86\n",
      "salt_100g                                 1.22428\n",
      "energy_100g                                2540.0\n",
      "fat_100g                                    57.14\n",
      "cholesterol_100g                              NaN\n",
      "fiber_100g                                    7.1\n",
      "carbohydrates_100g                          17.86\n",
      "Name: 3, dtype: object\n",
      "3\n"
     ]
    }
   ],
   "source": [
    "k=0\n",
    "for i, e in enumerate(data['energy_100g']):\n",
    "    if e > 900:\n",
    "        print(data.iloc[i])\n",
    "        print(i)\n",
    "        k+=1\n",
    "    if k==3:\n",
    "        break"
   ]
  },
  {
   "cell_type": "markdown",
   "id": "6d43c01a",
   "metadata": {},
   "source": [
    "Ici, on a différentes valeurs bien au-delà de 100g pour salt_100g, et au-delà de 900 pour energy_100g. On peut s'interroger sur les causes de ces valeurs incohérentes : fautes de frappes lors de la collecte des données ? "
   ]
  },
  {
   "cell_type": "code",
   "execution_count": 21,
   "id": "91e41471",
   "metadata": {},
   "outputs": [
    {
     "name": "stdout",
     "output_type": "stream",
     "text": [
      "additives_n---------------------------------------0\n",
      "sugars_100g---------------------------------------19\n",
      "proteins_100g-------------------------------------4\n",
      "salt_100g-----------------------------------------158\n",
      "energy_100g---------------------------------------148055\n",
      "fat_100g------------------------------------------4\n",
      "cholesterol_100g----------------------------------0\n",
      "fiber_100g----------------------------------------5\n",
      "carbohydrates_100g--------------------------------19\n"
     ]
    }
   ],
   "source": [
    "for col in numerical_col:\n",
    "    if col != 'energy_100g':\n",
    "        print(f'{col :-<50}{len([e for e in data[col] if e > 100 or e < 0])}')\n",
    "    else:\n",
    "        print(f'{col :-<50}{len([e for e in data[col] if e > 900 or e < 0])}')"
   ]
  },
  {
   "cell_type": "markdown",
   "id": "5c58419e",
   "metadata": {},
   "source": [
    "Le nombre d'individus concernés est très faible par rapport à la taille de notre jeu de données. Pour résoudre ce problème et généraliser, créons une fonction pour retirer les individus présentant des valeurs aberrantes de notre dataset."
   ]
  },
  {
   "cell_type": "code",
   "execution_count": 22,
   "id": "d0bc5415",
   "metadata": {},
   "outputs": [],
   "source": [
    "def outlier_cleaner(data, numerical_col):\n",
    "    \"\"\"Fonction permettant de retirer les outliers de notre jeu de données\"\"\"\n",
    "\n",
    "    for col in numerical_col:\n",
    "        if col != 'energy_100g':\n",
    "            data.drop(data[data[col] > 100].index, inplace=True)\n",
    "            data.drop(data[data[col] < 0].index, inplace=True)\n",
    "        else:\n",
    "            data.drop(data[data[col] > 900].index, inplace=True)\n",
    "            data.drop(data[data[col] < 0].index, inplace=True)"
   ]
  },
  {
   "cell_type": "code",
   "execution_count": 23,
   "id": "a0016c97",
   "metadata": {},
   "outputs": [
    {
     "name": "stderr",
     "output_type": "stream",
     "text": [
      "/Users/leodray/opt/anaconda3/lib/python3.8/site-packages/pandas/core/frame.py:4308: SettingWithCopyWarning: \n",
      "A value is trying to be set on a copy of a slice from a DataFrame\n",
      "\n",
      "See the caveats in the documentation: https://pandas.pydata.org/pandas-docs/stable/user_guide/indexing.html#returning-a-view-versus-a-copy\n",
      "  return super().drop(\n",
      "/Users/leodray/opt/anaconda3/lib/python3.8/site-packages/pandas/core/frame.py:4308: SettingWithCopyWarning: \n",
      "A value is trying to be set on a copy of a slice from a DataFrame\n",
      "\n",
      "See the caveats in the documentation: https://pandas.pydata.org/pandas-docs/stable/user_guide/indexing.html#returning-a-view-versus-a-copy\n",
      "  return super().drop(\n",
      "/Users/leodray/opt/anaconda3/lib/python3.8/site-packages/pandas/core/frame.py:4308: SettingWithCopyWarning: \n",
      "A value is trying to be set on a copy of a slice from a DataFrame\n",
      "\n",
      "See the caveats in the documentation: https://pandas.pydata.org/pandas-docs/stable/user_guide/indexing.html#returning-a-view-versus-a-copy\n",
      "  return super().drop(\n",
      "/Users/leodray/opt/anaconda3/lib/python3.8/site-packages/pandas/core/frame.py:4308: SettingWithCopyWarning: \n",
      "A value is trying to be set on a copy of a slice from a DataFrame\n",
      "\n",
      "See the caveats in the documentation: https://pandas.pydata.org/pandas-docs/stable/user_guide/indexing.html#returning-a-view-versus-a-copy\n",
      "  return super().drop(\n",
      "/Users/leodray/opt/anaconda3/lib/python3.8/site-packages/pandas/core/frame.py:4308: SettingWithCopyWarning: \n",
      "A value is trying to be set on a copy of a slice from a DataFrame\n",
      "\n",
      "See the caveats in the documentation: https://pandas.pydata.org/pandas-docs/stable/user_guide/indexing.html#returning-a-view-versus-a-copy\n",
      "  return super().drop(\n",
      "/Users/leodray/opt/anaconda3/lib/python3.8/site-packages/pandas/core/frame.py:4308: SettingWithCopyWarning: \n",
      "A value is trying to be set on a copy of a slice from a DataFrame\n",
      "\n",
      "See the caveats in the documentation: https://pandas.pydata.org/pandas-docs/stable/user_guide/indexing.html#returning-a-view-versus-a-copy\n",
      "  return super().drop(\n",
      "/Users/leodray/opt/anaconda3/lib/python3.8/site-packages/pandas/core/frame.py:4308: SettingWithCopyWarning: \n",
      "A value is trying to be set on a copy of a slice from a DataFrame\n",
      "\n",
      "See the caveats in the documentation: https://pandas.pydata.org/pandas-docs/stable/user_guide/indexing.html#returning-a-view-versus-a-copy\n",
      "  return super().drop(\n",
      "/Users/leodray/opt/anaconda3/lib/python3.8/site-packages/pandas/core/frame.py:4308: SettingWithCopyWarning: \n",
      "A value is trying to be set on a copy of a slice from a DataFrame\n",
      "\n",
      "See the caveats in the documentation: https://pandas.pydata.org/pandas-docs/stable/user_guide/indexing.html#returning-a-view-versus-a-copy\n",
      "  return super().drop(\n",
      "/Users/leodray/opt/anaconda3/lib/python3.8/site-packages/pandas/core/frame.py:4308: SettingWithCopyWarning: \n",
      "A value is trying to be set on a copy of a slice from a DataFrame\n",
      "\n",
      "See the caveats in the documentation: https://pandas.pydata.org/pandas-docs/stable/user_guide/indexing.html#returning-a-view-versus-a-copy\n",
      "  return super().drop(\n",
      "/Users/leodray/opt/anaconda3/lib/python3.8/site-packages/pandas/core/frame.py:4308: SettingWithCopyWarning: \n",
      "A value is trying to be set on a copy of a slice from a DataFrame\n",
      "\n",
      "See the caveats in the documentation: https://pandas.pydata.org/pandas-docs/stable/user_guide/indexing.html#returning-a-view-versus-a-copy\n",
      "  return super().drop(\n",
      "/Users/leodray/opt/anaconda3/lib/python3.8/site-packages/pandas/core/frame.py:4308: SettingWithCopyWarning: \n",
      "A value is trying to be set on a copy of a slice from a DataFrame\n",
      "\n",
      "See the caveats in the documentation: https://pandas.pydata.org/pandas-docs/stable/user_guide/indexing.html#returning-a-view-versus-a-copy\n",
      "  return super().drop(\n",
      "/Users/leodray/opt/anaconda3/lib/python3.8/site-packages/pandas/core/frame.py:4308: SettingWithCopyWarning: \n",
      "A value is trying to be set on a copy of a slice from a DataFrame\n",
      "\n",
      "See the caveats in the documentation: https://pandas.pydata.org/pandas-docs/stable/user_guide/indexing.html#returning-a-view-versus-a-copy\n",
      "  return super().drop(\n",
      "/Users/leodray/opt/anaconda3/lib/python3.8/site-packages/pandas/core/frame.py:4308: SettingWithCopyWarning: \n",
      "A value is trying to be set on a copy of a slice from a DataFrame\n",
      "\n",
      "See the caveats in the documentation: https://pandas.pydata.org/pandas-docs/stable/user_guide/indexing.html#returning-a-view-versus-a-copy\n",
      "  return super().drop(\n",
      "/Users/leodray/opt/anaconda3/lib/python3.8/site-packages/pandas/core/frame.py:4308: SettingWithCopyWarning: \n",
      "A value is trying to be set on a copy of a slice from a DataFrame\n",
      "\n",
      "See the caveats in the documentation: https://pandas.pydata.org/pandas-docs/stable/user_guide/indexing.html#returning-a-view-versus-a-copy\n",
      "  return super().drop(\n",
      "/Users/leodray/opt/anaconda3/lib/python3.8/site-packages/pandas/core/frame.py:4308: SettingWithCopyWarning: \n",
      "A value is trying to be set on a copy of a slice from a DataFrame\n",
      "\n",
      "See the caveats in the documentation: https://pandas.pydata.org/pandas-docs/stable/user_guide/indexing.html#returning-a-view-versus-a-copy\n",
      "  return super().drop(\n",
      "/Users/leodray/opt/anaconda3/lib/python3.8/site-packages/pandas/core/frame.py:4308: SettingWithCopyWarning: \n",
      "A value is trying to be set on a copy of a slice from a DataFrame\n",
      "\n",
      "See the caveats in the documentation: https://pandas.pydata.org/pandas-docs/stable/user_guide/indexing.html#returning-a-view-versus-a-copy\n",
      "  return super().drop(\n",
      "/Users/leodray/opt/anaconda3/lib/python3.8/site-packages/pandas/core/frame.py:4308: SettingWithCopyWarning: \n",
      "A value is trying to be set on a copy of a slice from a DataFrame\n",
      "\n",
      "See the caveats in the documentation: https://pandas.pydata.org/pandas-docs/stable/user_guide/indexing.html#returning-a-view-versus-a-copy\n",
      "  return super().drop(\n",
      "/Users/leodray/opt/anaconda3/lib/python3.8/site-packages/pandas/core/frame.py:4308: SettingWithCopyWarning: \n",
      "A value is trying to be set on a copy of a slice from a DataFrame\n",
      "\n",
      "See the caveats in the documentation: https://pandas.pydata.org/pandas-docs/stable/user_guide/indexing.html#returning-a-view-versus-a-copy\n",
      "  return super().drop(\n"
     ]
    }
   ],
   "source": [
    "outlier_cleaner(data, numerical_col)"
   ]
  },
  {
   "cell_type": "markdown",
   "id": "cb15f11b",
   "metadata": {},
   "source": [
    "On vérifie qu'il n'y a plus de valeurs aberrantes."
   ]
  },
  {
   "cell_type": "code",
   "execution_count": 24,
   "id": "f24af29d",
   "metadata": {},
   "outputs": [
    {
     "name": "stdout",
     "output_type": "stream",
     "text": [
      "additives_n---------------------------------------0\n",
      "sugars_100g---------------------------------------0\n",
      "proteins_100g-------------------------------------0\n",
      "salt_100g-----------------------------------------0\n",
      "energy_100g---------------------------------------0\n",
      "fat_100g------------------------------------------0\n",
      "cholesterol_100g----------------------------------0\n",
      "fiber_100g----------------------------------------0\n",
      "carbohydrates_100g--------------------------------0\n"
     ]
    }
   ],
   "source": [
    "for col in numerical_col:\n",
    "    if col != 'energy_100g':\n",
    "        print(f'{col :-<50}{len([e for e in data[col] if e > 100 or e < 0])}')\n",
    "    else:\n",
    "        print(f'{col :-<50}{len([e for e in data[col] if e > 900 or e < 0])}')"
   ]
  },
  {
   "cell_type": "markdown",
   "id": "a10a4328",
   "metadata": {},
   "source": [
    "On peut désormais s'attaquer à la question des valeurs manquantes. "
   ]
  },
  {
   "cell_type": "code",
   "execution_count": 25,
   "id": "e0a2edda",
   "metadata": {},
   "outputs": [
    {
     "data": {
      "text/plain": [
       "main_category              0.707105\n",
       "cholesterol_100g           0.686187\n",
       "fiber_100g                 0.533018\n",
       "nutrition-score-fr_100g    0.486504\n",
       "sugars_100g                0.396497\n",
       "carbohydrates_100g         0.386565\n",
       "fat_100g                   0.385551\n",
       "salt_100g                  0.359127\n",
       "proteins_100g              0.347741\n",
       "energy_100g                0.345678\n",
       "additives_n                0.327291\n",
       "product_name               0.091497\n",
       "countries                  0.001385\n",
       "created_datetime           0.000046\n",
       "last_modified_datetime     0.000000\n",
       "dtype: float64"
      ]
     },
     "execution_count": 25,
     "metadata": {},
     "output_type": "execute_result"
    }
   ],
   "source": [
    "(data.isna().sum()/data.shape[0]).sort_values(ascending=False)"
   ]
  },
  {
   "cell_type": "code",
   "execution_count": 26,
   "id": "8bc26997",
   "metadata": {},
   "outputs": [
    {
     "data": {
      "text/plain": [
       "created_datetime            object\n",
       "last_modified_datetime      object\n",
       "product_name                object\n",
       "main_category               object\n",
       "countries                   object\n",
       "nutrition-score-fr_100g    float64\n",
       "additives_n                float64\n",
       "sugars_100g                float64\n",
       "proteins_100g              float64\n",
       "salt_100g                  float64\n",
       "energy_100g                float64\n",
       "fat_100g                   float64\n",
       "cholesterol_100g           float64\n",
       "fiber_100g                 float64\n",
       "carbohydrates_100g         float64\n",
       "dtype: object"
      ]
     },
     "execution_count": 26,
     "metadata": {},
     "output_type": "execute_result"
    }
   ],
   "source": [
    "data.dtypes"
   ]
  },
  {
   "cell_type": "code",
   "execution_count": 27,
   "id": "641159a7",
   "metadata": {},
   "outputs": [
    {
     "data": {
      "text/plain": [
       "(172574, 15)"
      ]
     },
     "execution_count": 27,
     "metadata": {},
     "output_type": "execute_result"
    }
   ],
   "source": [
    "data.shape"
   ]
  },
  {
   "cell_type": "markdown",
   "id": "2b64a8a6",
   "metadata": {},
   "source": [
    "On va procéder différemment selon les cas :\n",
    "\n",
    "   - On retire tous les individus qui contiennent des valeurs manquantes de product_name, car on ne travaille que sur des produits dont on connaît au moins le nom et qu'il y a très peu de valeurs manquantes pour ces variables;\n",
    "   - On retir les individus qui contiennet des valeurs manquantes pour les variables relatives à des dates, car elles seront dur à remplacer et cela concerne peu de cas;\n",
    "   - Pour les variables numériques relatives à la composition du produit, on remplace les variables avec une stratégie d'imputing simple;\n",
    "   - Pour le score de nutrition et pour la catégorie principale, qui sont des variables cruciales, on utilise un algorithme de KNN pour remplacer les valeurs à partir de leurs plus proches voisins."
   ]
  },
  {
   "cell_type": "code",
   "execution_count": 28,
   "id": "d1b635bf",
   "metadata": {},
   "outputs": [],
   "source": [
    "#On retire les individus de data pour lesquels les variables product_name ou countries ne sont pas renseignées\n",
    "\n",
    "data = data.dropna(subset=['product_name', 'countries', 'created_datetime', 'last_modified_datetime'])"
   ]
  },
  {
   "cell_type": "code",
   "execution_count": 29,
   "id": "f2ec3b22",
   "metadata": {},
   "outputs": [
    {
     "data": {
      "text/plain": [
       "(156586, 15)"
      ]
     },
     "execution_count": 29,
     "metadata": {},
     "output_type": "execute_result"
    }
   ],
   "source": [
    "data.shape #On a perdu moins de 5% des données"
   ]
  },
  {
   "cell_type": "code",
   "execution_count": 30,
   "id": "1f780dd1",
   "metadata": {},
   "outputs": [
    {
     "data": {
      "text/plain": [
       "product_name    0\n",
       "countries       0\n",
       "dtype: int64"
      ]
     },
     "execution_count": 30,
     "metadata": {},
     "output_type": "execute_result"
    }
   ],
   "source": [
    "data[['product_name', 'countries']].isna().sum() #Toutes les valeurs manquantes ont bien été retirées"
   ]
  },
  {
   "cell_type": "code",
   "execution_count": 31,
   "id": "478ceec5",
   "metadata": {},
   "outputs": [
    {
     "name": "stderr",
     "output_type": "stream",
     "text": [
      "/Users/leodray/opt/anaconda3/lib/python3.8/site-packages/seaborn/distributions.py:2557: FutureWarning: `distplot` is a deprecated function and will be removed in a future version. Please adapt your code to use either `displot` (a figure-level function with similar flexibility) or `histplot` (an axes-level function for histograms).\n",
      "  warnings.warn(msg, FutureWarning)\n",
      "/Users/leodray/opt/anaconda3/lib/python3.8/site-packages/seaborn/distributions.py:2557: FutureWarning: `distplot` is a deprecated function and will be removed in a future version. Please adapt your code to use either `displot` (a figure-level function with similar flexibility) or `histplot` (an axes-level function for histograms).\n",
      "  warnings.warn(msg, FutureWarning)\n",
      "/Users/leodray/opt/anaconda3/lib/python3.8/site-packages/seaborn/distributions.py:2557: FutureWarning: `distplot` is a deprecated function and will be removed in a future version. Please adapt your code to use either `displot` (a figure-level function with similar flexibility) or `histplot` (an axes-level function for histograms).\n",
      "  warnings.warn(msg, FutureWarning)\n",
      "/Users/leodray/opt/anaconda3/lib/python3.8/site-packages/seaborn/distributions.py:2557: FutureWarning: `distplot` is a deprecated function and will be removed in a future version. Please adapt your code to use either `displot` (a figure-level function with similar flexibility) or `histplot` (an axes-level function for histograms).\n",
      "  warnings.warn(msg, FutureWarning)\n",
      "/Users/leodray/opt/anaconda3/lib/python3.8/site-packages/seaborn/distributions.py:2557: FutureWarning: `distplot` is a deprecated function and will be removed in a future version. Please adapt your code to use either `displot` (a figure-level function with similar flexibility) or `histplot` (an axes-level function for histograms).\n",
      "  warnings.warn(msg, FutureWarning)\n",
      "/Users/leodray/opt/anaconda3/lib/python3.8/site-packages/seaborn/distributions.py:2557: FutureWarning: `distplot` is a deprecated function and will be removed in a future version. Please adapt your code to use either `displot` (a figure-level function with similar flexibility) or `histplot` (an axes-level function for histograms).\n",
      "  warnings.warn(msg, FutureWarning)\n",
      "/Users/leodray/opt/anaconda3/lib/python3.8/site-packages/seaborn/distributions.py:2557: FutureWarning: `distplot` is a deprecated function and will be removed in a future version. Please adapt your code to use either `displot` (a figure-level function with similar flexibility) or `histplot` (an axes-level function for histograms).\n",
      "  warnings.warn(msg, FutureWarning)\n",
      "/Users/leodray/opt/anaconda3/lib/python3.8/site-packages/seaborn/distributions.py:2557: FutureWarning: `distplot` is a deprecated function and will be removed in a future version. Please adapt your code to use either `displot` (a figure-level function with similar flexibility) or `histplot` (an axes-level function for histograms).\n",
      "  warnings.warn(msg, FutureWarning)\n",
      "/Users/leodray/opt/anaconda3/lib/python3.8/site-packages/seaborn/distributions.py:2557: FutureWarning: `distplot` is a deprecated function and will be removed in a future version. Please adapt your code to use either `displot` (a figure-level function with similar flexibility) or `histplot` (an axes-level function for histograms).\n",
      "  warnings.warn(msg, FutureWarning)\n"
     ]
    },
    {
     "data": {
      "text/plain": [
       "<Figure size 432x288 with 0 Axes>"
      ]
     },
     "metadata": {},
     "output_type": "display_data"
    },
    {
     "data": {
      "image/png": "[encoded data removed]",
      "text/plain": [
       "<Figure size 1296x864 with 9 Axes>"
      ]
     },
     "metadata": {
      "needs_background": "light"
     },
     "output_type": "display_data"
    }
   ],
   "source": [
    "plt.figure()\n",
    "fig, axes = plt.subplots(3, 3, figsize=(18,12))\n",
    "for i, e in enumerate(numerical_col):\n",
    "    sns.distplot(data[e], ax=axes[i//3, i%3]).set_title(f'{e}')"
   ]
  },
  {
   "cell_type": "markdown",
   "id": "75933232",
   "metadata": {},
   "source": [
    "On veut créer notre imputer avec une stratégie fondée sur la médiane ou la moyenne.\n",
    "Pour choisir, on va regarder la distribution de nos variables numériques."
   ]
  },
  {
   "cell_type": "code",
   "execution_count": 32,
   "id": "14a9f9d1",
   "metadata": {},
   "outputs": [
    {
     "data": {
      "text/plain": [
       "<Figure size 432x288 with 0 Axes>"
      ]
     },
     "metadata": {},
     "output_type": "display_data"
    },
    {
     "data": {
      "image/png": "[encoded data removed]",
      "text/plain": [
       "<Figure size 1296x864 with 9 Axes>"
      ]
     },
     "metadata": {
      "needs_background": "light"
     },
     "output_type": "display_data"
    }
   ],
   "source": [
    "plt.figure()\n",
    "fig, axes = plt.subplots(3, 3, figsize=(18,12))\n",
    "for i, e in enumerate(numerical_col):\n",
    "    sns.violinplot(ax=axes[i//3, i%3], data=data[e]).set_title(f'{e}')"
   ]
  },
  {
   "cell_type": "code",
   "execution_count": 33,
   "id": "27da962d",
   "metadata": {},
   "outputs": [
    {
     "data": {
      "text/plain": [
       "<Figure size 432x288 with 0 Axes>"
      ]
     },
     "metadata": {},
     "output_type": "display_data"
    },
    {
     "data": {
      "image/png": "[encoded data removed]",
      "text/plain": [
       "<Figure size 1296x864 with 9 Axes>"
      ]
     },
     "metadata": {
      "needs_background": "light"
     },
     "output_type": "display_data"
    }
   ],
   "source": [
    "plt.figure()\n",
    "fig, axes = plt.subplots(3, 3, figsize=(18,12))\n",
    "for i, e in enumerate(numerical_col):\n",
    "    sns.boxplot(ax=axes[i//3, i%3], data=data[e]).set_title(f'{e}')"
   ]
  },
  {
   "cell_type": "markdown",
   "id": "fa4044b2",
   "metadata": {},
   "source": [
    "La distribution n'est pas symétrique et ne suit pas une distribution normale. \n",
    "Il vaut donc mieux utiliser la médiane, qui est un indicateur plus robuste, comme stratégie d'imputing."
   ]
  },
  {
   "cell_type": "code",
   "execution_count": 34,
   "id": "43e6e257",
   "metadata": {},
   "outputs": [],
   "source": [
    "#On importe le ColumnTransformer ainsi que le SimpleImputer de sklearn\n",
    "\n",
    "from sklearn.compose import make_column_transformer\n",
    "from sklearn.impute import SimpleImputer\n",
    "\n",
    "#On crée un ColumnTransformer pour les variables concernées\n",
    "\n",
    "#On utilise un SimpleImputer avec la stratégie médiane\n",
    "#On choisit les variables à impute\n",
    "#On utilise le paramètre remainder pour conserver les autres colonnes\n",
    "\n",
    "col_transformer = make_column_transformer((SimpleImputer(missing_values=np.nan, strategy='median'), numerical_col), remainder='passthrough')\n"
   ]
  },
  {
   "cell_type": "code",
   "execution_count": 35,
   "id": "3ecc36e3",
   "metadata": {},
   "outputs": [
    {
     "data": {
      "text/plain": [
       "array([[1.0, 3.6, 1.64, ..., nan, 'en:FR', nan],\n",
       "       [0.0, 3.6, 1.64, ..., nan, 'US', nan],\n",
       "       [1.0, 3.6, 1.64, ..., 'fr:filet-de-boeuf', 'France', nan],\n",
       "       ...,\n",
       "       [0.0, 0.0, 0.0, ..., nan, 'US', 0.0],\n",
       "       [1.0, 3.6, 1.64, ..., 'en:chips-and-fries', 'China', nan],\n",
       "       [1.0, 3.6, 1.64, ..., nan, 'en:FR', nan]], dtype=object)"
      ]
     },
     "execution_count": 35,
     "metadata": {},
     "output_type": "execute_result"
    }
   ],
   "source": [
    "col_transformer.fit_transform(data)"
   ]
  },
  {
   "cell_type": "code",
   "execution_count": 36,
   "id": "fd775d22",
   "metadata": {},
   "outputs": [
    {
     "data": {
      "text/plain": [
       "created_datetime                0\n",
       "last_modified_datetime          0\n",
       "product_name                    0\n",
       "main_category              106874\n",
       "countries                       0\n",
       "nutrition-score-fr_100g     69060\n",
       "additives_n                 41473\n",
       "sugars_100g                 53726\n",
       "proteins_100g               45422\n",
       "salt_100g                   47239\n",
       "energy_100g                 45062\n",
       "fat_100g                    51935\n",
       "cholesterol_100g           102476\n",
       "fiber_100g                  76955\n",
       "carbohydrates_100g          52115\n",
       "dtype: int64"
      ]
     },
     "execution_count": 36,
     "metadata": {},
     "output_type": "execute_result"
    }
   ],
   "source": [
    "data.isna().sum() #Il semblerait que la transformation ne fonctionne pas "
   ]
  },
  {
   "cell_type": "markdown",
   "id": "1714e621",
   "metadata": {},
   "source": [
    "Le problème vient sûrement du fait que les missing values ne sont pas des np.nan. Pour le moment, on va utiliser une solution plus simple."
   ]
  },
  {
   "cell_type": "code",
   "execution_count": 37,
   "id": "f632e33d",
   "metadata": {},
   "outputs": [],
   "source": [
    "for col in numerical_col:\n",
    "    data[col].fillna(data[col].median(), inplace=True)"
   ]
  },
  {
   "cell_type": "code",
   "execution_count": 38,
   "id": "18b4075f",
   "metadata": {},
   "outputs": [
    {
     "data": {
      "text/html": [
       "<div>\n",
       "<style scoped>\n",
       "    .dataframe tbody tr th:only-of-type {\n",
       "        vertical-align: middle;\n",
       "    }\n",
       "\n",
       "    .dataframe tbody tr th {\n",
       "        vertical-align: top;\n",
       "    }\n",
       "\n",
       "    .dataframe thead th {\n",
       "        text-align: right;\n",
       "    }\n",
       "</style>\n",
       "<table border=\"1\" class=\"dataframe\">\n",
       "  <thead>\n",
       "    <tr style=\"text-align: right;\">\n",
       "      <th></th>\n",
       "      <th>created_datetime</th>\n",
       "      <th>last_modified_datetime</th>\n",
       "      <th>product_name</th>\n",
       "      <th>main_category</th>\n",
       "      <th>countries</th>\n",
       "      <th>nutrition-score-fr_100g</th>\n",
       "      <th>additives_n</th>\n",
       "      <th>sugars_100g</th>\n",
       "      <th>proteins_100g</th>\n",
       "      <th>salt_100g</th>\n",
       "      <th>energy_100g</th>\n",
       "      <th>fat_100g</th>\n",
       "      <th>cholesterol_100g</th>\n",
       "      <th>fiber_100g</th>\n",
       "      <th>carbohydrates_100g</th>\n",
       "    </tr>\n",
       "  </thead>\n",
       "  <tbody>\n",
       "    <tr>\n",
       "      <th>0</th>\n",
       "      <td>2016-09-17T09:17:46Z</td>\n",
       "      <td>2016-09-17T09:18:13Z</td>\n",
       "      <td>Farine de blé noir</td>\n",
       "      <td>NaN</td>\n",
       "      <td>en:FR</td>\n",
       "      <td>NaN</td>\n",
       "      <td>1.0</td>\n",
       "      <td>3.60</td>\n",
       "      <td>1.64</td>\n",
       "      <td>0.32500</td>\n",
       "      <td>310.0</td>\n",
       "      <td>0.5</td>\n",
       "      <td>0.0</td>\n",
       "      <td>0.8</td>\n",
       "      <td>9.00</td>\n",
       "    </tr>\n",
       "    <tr>\n",
       "      <th>25</th>\n",
       "      <td>2017-03-09T10:35:13Z</td>\n",
       "      <td>2017-03-09T10:35:13Z</td>\n",
       "      <td>Real Salt Granular</td>\n",
       "      <td>NaN</td>\n",
       "      <td>US</td>\n",
       "      <td>NaN</td>\n",
       "      <td>0.0</td>\n",
       "      <td>3.60</td>\n",
       "      <td>1.64</td>\n",
       "      <td>96.15678</td>\n",
       "      <td>310.0</td>\n",
       "      <td>0.5</td>\n",
       "      <td>0.0</td>\n",
       "      <td>0.8</td>\n",
       "      <td>9.00</td>\n",
       "    </tr>\n",
       "    <tr>\n",
       "      <th>46</th>\n",
       "      <td>2015-06-17T08:45:04Z</td>\n",
       "      <td>2015-06-17T10:11:54Z</td>\n",
       "      <td>Filet de bœuf</td>\n",
       "      <td>fr:filet-de-boeuf</td>\n",
       "      <td>France</td>\n",
       "      <td>NaN</td>\n",
       "      <td>1.0</td>\n",
       "      <td>3.60</td>\n",
       "      <td>1.64</td>\n",
       "      <td>0.32500</td>\n",
       "      <td>310.0</td>\n",
       "      <td>0.5</td>\n",
       "      <td>0.0</td>\n",
       "      <td>0.8</td>\n",
       "      <td>9.00</td>\n",
       "    </tr>\n",
       "    <tr>\n",
       "      <th>52</th>\n",
       "      <td>2017-03-09T10:35:30Z</td>\n",
       "      <td>2017-03-09T10:35:30Z</td>\n",
       "      <td>Organic Small Red Chili Beans</td>\n",
       "      <td>NaN</td>\n",
       "      <td>US</td>\n",
       "      <td>NaN</td>\n",
       "      <td>0.0</td>\n",
       "      <td>2.78</td>\n",
       "      <td>22.22</td>\n",
       "      <td>0.17526</td>\n",
       "      <td>699.0</td>\n",
       "      <td>0.5</td>\n",
       "      <td>0.0</td>\n",
       "      <td>44.4</td>\n",
       "      <td>63.89</td>\n",
       "    </tr>\n",
       "    <tr>\n",
       "      <th>71</th>\n",
       "      <td>2017-03-09T10:35:09Z</td>\n",
       "      <td>2017-03-09T10:35:09Z</td>\n",
       "      <td>Fine Sea Salt</td>\n",
       "      <td>NaN</td>\n",
       "      <td>US</td>\n",
       "      <td>NaN</td>\n",
       "      <td>0.0</td>\n",
       "      <td>3.60</td>\n",
       "      <td>1.64</td>\n",
       "      <td>99.90582</td>\n",
       "      <td>310.0</td>\n",
       "      <td>0.5</td>\n",
       "      <td>0.0</td>\n",
       "      <td>0.8</td>\n",
       "      <td>9.00</td>\n",
       "    </tr>\n",
       "  </tbody>\n",
       "</table>\n",
       "</div>"
      ],
      "text/plain": [
       "        created_datetime last_modified_datetime  \\\n",
       "0   2016-09-17T09:17:46Z   2016-09-17T09:18:13Z   \n",
       "25  2017-03-09T10:35:13Z   2017-03-09T10:35:13Z   \n",
       "46  2015-06-17T08:45:04Z   2015-06-17T10:11:54Z   \n",
       "52  2017-03-09T10:35:30Z   2017-03-09T10:35:30Z   \n",
       "71  2017-03-09T10:35:09Z   2017-03-09T10:35:09Z   \n",
       "\n",
       "                     product_name      main_category countries  \\\n",
       "0              Farine de blé noir                NaN     en:FR   \n",
       "25             Real Salt Granular                NaN        US   \n",
       "46                  Filet de bœuf  fr:filet-de-boeuf    France   \n",
       "52  Organic Small Red Chili Beans                NaN        US   \n",
       "71                  Fine Sea Salt                NaN        US   \n",
       "\n",
       "    nutrition-score-fr_100g  additives_n  sugars_100g  proteins_100g  \\\n",
       "0                       NaN          1.0         3.60           1.64   \n",
       "25                      NaN          0.0         3.60           1.64   \n",
       "46                      NaN          1.0         3.60           1.64   \n",
       "52                      NaN          0.0         2.78          22.22   \n",
       "71                      NaN          0.0         3.60           1.64   \n",
       "\n",
       "    salt_100g  energy_100g  fat_100g  cholesterol_100g  fiber_100g  \\\n",
       "0     0.32500        310.0       0.5               0.0         0.8   \n",
       "25   96.15678        310.0       0.5               0.0         0.8   \n",
       "46    0.32500        310.0       0.5               0.0         0.8   \n",
       "52    0.17526        699.0       0.5               0.0        44.4   \n",
       "71   99.90582        310.0       0.5               0.0         0.8   \n",
       "\n",
       "    carbohydrates_100g  \n",
       "0                 9.00  \n",
       "25                9.00  \n",
       "46                9.00  \n",
       "52               63.89  \n",
       "71                9.00  "
      ]
     },
     "execution_count": 38,
     "metadata": {},
     "output_type": "execute_result"
    }
   ],
   "source": [
    "data.head()"
   ]
  },
  {
   "cell_type": "code",
   "execution_count": 39,
   "id": "6abb056e",
   "metadata": {},
   "outputs": [
    {
     "data": {
      "text/plain": [
       "created_datetime                0\n",
       "last_modified_datetime          0\n",
       "product_name                    0\n",
       "main_category              106874\n",
       "countries                       0\n",
       "nutrition-score-fr_100g     69060\n",
       "additives_n                     0\n",
       "sugars_100g                     0\n",
       "proteins_100g                   0\n",
       "salt_100g                       0\n",
       "energy_100g                     0\n",
       "fat_100g                        0\n",
       "cholesterol_100g                0\n",
       "fiber_100g                      0\n",
       "carbohydrates_100g              0\n",
       "dtype: int64"
      ]
     },
     "execution_count": 39,
     "metadata": {},
     "output_type": "execute_result"
    }
   ],
   "source": [
    "data.isna().sum()"
   ]
  },
  {
   "cell_type": "markdown",
   "id": "0c4f6bf6",
   "metadata": {},
   "source": [
    "Il nous reste à remplacer les valeurs manquantes pour les variables main_category et nutrition-score-fr_100g. On va utiliser un algorithme de KNN pour remplacer les valeurs à partir de leur plus proche voisin. Avant de faire ça, il nous faut encoder la variable catégorielle main_category."
   ]
  },
  {
   "cell_type": "code",
   "execution_count": 40,
   "id": "7be31fde",
   "metadata": {},
   "outputs": [],
   "source": [
    "#On importe le KNNImputer et l'Ordinal encoder de sklearn \n",
    "\n",
    "from sklearn.impute import KNNImputer\n",
    "from sklearn.preprocessing import OrdinalEncoder"
   ]
  },
  {
   "cell_type": "code",
   "execution_count": 41,
   "id": "03bcb419",
   "metadata": {},
   "outputs": [
    {
     "data": {
      "text/plain": [
       "0            NaN\n",
       "25           NaN\n",
       "46        1572.0\n",
       "52           NaN\n",
       "71           NaN\n",
       "           ...  \n",
       "320765     964.0\n",
       "320767       NaN\n",
       "320768       NaN\n",
       "320769     384.0\n",
       "320770       NaN\n",
       "Name: main_category, Length: 156586, dtype: object"
      ]
     },
     "execution_count": 41,
     "metadata": {},
     "output_type": "execute_result"
    }
   ],
   "source": [
    "encoder = OrdinalEncoder()\n",
    "\n",
    "def encode(data):\n",
    "    '''fonction permettant d'encoder les valeurs non nulles'''\n",
    "    #on retient les valeurs non nulles\n",
    "    nonulls = np.array(data.dropna())\n",
    "    #on reshape les données pour l'encodage\n",
    "    impute_reshape = nonulls.reshape(-1,1)\n",
    "    #on encode les données\n",
    "    impute_ordinal = encoder.fit_transform(impute_reshape)\n",
    "    #Assign back encoded values to non-null values\n",
    "    data.loc[data.notnull()] = np.squeeze(impute_ordinal)\n",
    "    return data\n",
    "\n",
    "\n",
    "#On encode la variable main_category\n",
    "encode(data['main_category'])"
   ]
  },
  {
   "cell_type": "code",
   "execution_count": 42,
   "id": "b91228c1",
   "metadata": {},
   "outputs": [
    {
     "data": {
      "text/html": [
       "<div>\n",
       "<style scoped>\n",
       "    .dataframe tbody tr th:only-of-type {\n",
       "        vertical-align: middle;\n",
       "    }\n",
       "\n",
       "    .dataframe tbody tr th {\n",
       "        vertical-align: top;\n",
       "    }\n",
       "\n",
       "    .dataframe thead th {\n",
       "        text-align: right;\n",
       "    }\n",
       "</style>\n",
       "<table border=\"1\" class=\"dataframe\">\n",
       "  <thead>\n",
       "    <tr style=\"text-align: right;\">\n",
       "      <th></th>\n",
       "      <th>created_datetime</th>\n",
       "      <th>last_modified_datetime</th>\n",
       "      <th>product_name</th>\n",
       "      <th>main_category</th>\n",
       "      <th>countries</th>\n",
       "      <th>nutrition-score-fr_100g</th>\n",
       "      <th>additives_n</th>\n",
       "      <th>sugars_100g</th>\n",
       "      <th>proteins_100g</th>\n",
       "      <th>salt_100g</th>\n",
       "      <th>energy_100g</th>\n",
       "      <th>fat_100g</th>\n",
       "      <th>cholesterol_100g</th>\n",
       "      <th>fiber_100g</th>\n",
       "      <th>carbohydrates_100g</th>\n",
       "    </tr>\n",
       "  </thead>\n",
       "  <tbody>\n",
       "    <tr>\n",
       "      <th>0</th>\n",
       "      <td>2016-09-17T09:17:46Z</td>\n",
       "      <td>2016-09-17T09:18:13Z</td>\n",
       "      <td>Farine de blé noir</td>\n",
       "      <td>NaN</td>\n",
       "      <td>en:FR</td>\n",
       "      <td>NaN</td>\n",
       "      <td>1.0</td>\n",
       "      <td>3.60</td>\n",
       "      <td>1.64</td>\n",
       "      <td>0.32500</td>\n",
       "      <td>310.0</td>\n",
       "      <td>0.5</td>\n",
       "      <td>0.0</td>\n",
       "      <td>0.8</td>\n",
       "      <td>9.00</td>\n",
       "    </tr>\n",
       "    <tr>\n",
       "      <th>25</th>\n",
       "      <td>2017-03-09T10:35:13Z</td>\n",
       "      <td>2017-03-09T10:35:13Z</td>\n",
       "      <td>Real Salt Granular</td>\n",
       "      <td>NaN</td>\n",
       "      <td>US</td>\n",
       "      <td>NaN</td>\n",
       "      <td>0.0</td>\n",
       "      <td>3.60</td>\n",
       "      <td>1.64</td>\n",
       "      <td>96.15678</td>\n",
       "      <td>310.0</td>\n",
       "      <td>0.5</td>\n",
       "      <td>0.0</td>\n",
       "      <td>0.8</td>\n",
       "      <td>9.00</td>\n",
       "    </tr>\n",
       "    <tr>\n",
       "      <th>46</th>\n",
       "      <td>2015-06-17T08:45:04Z</td>\n",
       "      <td>2015-06-17T10:11:54Z</td>\n",
       "      <td>Filet de bœuf</td>\n",
       "      <td>1572.0</td>\n",
       "      <td>France</td>\n",
       "      <td>NaN</td>\n",
       "      <td>1.0</td>\n",
       "      <td>3.60</td>\n",
       "      <td>1.64</td>\n",
       "      <td>0.32500</td>\n",
       "      <td>310.0</td>\n",
       "      <td>0.5</td>\n",
       "      <td>0.0</td>\n",
       "      <td>0.8</td>\n",
       "      <td>9.00</td>\n",
       "    </tr>\n",
       "    <tr>\n",
       "      <th>52</th>\n",
       "      <td>2017-03-09T10:35:30Z</td>\n",
       "      <td>2017-03-09T10:35:30Z</td>\n",
       "      <td>Organic Small Red Chili Beans</td>\n",
       "      <td>NaN</td>\n",
       "      <td>US</td>\n",
       "      <td>NaN</td>\n",
       "      <td>0.0</td>\n",
       "      <td>2.78</td>\n",
       "      <td>22.22</td>\n",
       "      <td>0.17526</td>\n",
       "      <td>699.0</td>\n",
       "      <td>0.5</td>\n",
       "      <td>0.0</td>\n",
       "      <td>44.4</td>\n",
       "      <td>63.89</td>\n",
       "    </tr>\n",
       "    <tr>\n",
       "      <th>71</th>\n",
       "      <td>2017-03-09T10:35:09Z</td>\n",
       "      <td>2017-03-09T10:35:09Z</td>\n",
       "      <td>Fine Sea Salt</td>\n",
       "      <td>NaN</td>\n",
       "      <td>US</td>\n",
       "      <td>NaN</td>\n",
       "      <td>0.0</td>\n",
       "      <td>3.60</td>\n",
       "      <td>1.64</td>\n",
       "      <td>99.90582</td>\n",
       "      <td>310.0</td>\n",
       "      <td>0.5</td>\n",
       "      <td>0.0</td>\n",
       "      <td>0.8</td>\n",
       "      <td>9.00</td>\n",
       "    </tr>\n",
       "  </tbody>\n",
       "</table>\n",
       "</div>"
      ],
      "text/plain": [
       "        created_datetime last_modified_datetime  \\\n",
       "0   2016-09-17T09:17:46Z   2016-09-17T09:18:13Z   \n",
       "25  2017-03-09T10:35:13Z   2017-03-09T10:35:13Z   \n",
       "46  2015-06-17T08:45:04Z   2015-06-17T10:11:54Z   \n",
       "52  2017-03-09T10:35:30Z   2017-03-09T10:35:30Z   \n",
       "71  2017-03-09T10:35:09Z   2017-03-09T10:35:09Z   \n",
       "\n",
       "                     product_name main_category countries  \\\n",
       "0              Farine de blé noir           NaN     en:FR   \n",
       "25             Real Salt Granular           NaN        US   \n",
       "46                  Filet de bœuf        1572.0    France   \n",
       "52  Organic Small Red Chili Beans           NaN        US   \n",
       "71                  Fine Sea Salt           NaN        US   \n",
       "\n",
       "    nutrition-score-fr_100g  additives_n  sugars_100g  proteins_100g  \\\n",
       "0                       NaN          1.0         3.60           1.64   \n",
       "25                      NaN          0.0         3.60           1.64   \n",
       "46                      NaN          1.0         3.60           1.64   \n",
       "52                      NaN          0.0         2.78          22.22   \n",
       "71                      NaN          0.0         3.60           1.64   \n",
       "\n",
       "    salt_100g  energy_100g  fat_100g  cholesterol_100g  fiber_100g  \\\n",
       "0     0.32500        310.0       0.5               0.0         0.8   \n",
       "25   96.15678        310.0       0.5               0.0         0.8   \n",
       "46    0.32500        310.0       0.5               0.0         0.8   \n",
       "52    0.17526        699.0       0.5               0.0        44.4   \n",
       "71   99.90582        310.0       0.5               0.0         0.8   \n",
       "\n",
       "    carbohydrates_100g  \n",
       "0                 9.00  \n",
       "25                9.00  \n",
       "46                9.00  \n",
       "52               63.89  \n",
       "71                9.00  "
      ]
     },
     "execution_count": 42,
     "metadata": {},
     "output_type": "execute_result"
    }
   ],
   "source": [
    "data.head()"
   ]
  },
  {
   "cell_type": "markdown",
   "id": "5a62bf2f",
   "metadata": {},
   "source": [
    "Les opérations du KNN_imputer sur l'ensemble des données risquent d'être très longues. On va donc d'abord travailler sur un petit échantillons du data_set pour vérifier que tout est opérationnel, avant de lancer les calculs. On va aussi pouvoir tester différents hyperparamètres pour optimiser notre modèle."
   ]
  },
  {
   "cell_type": "code",
   "execution_count": 43,
   "id": "e7c57eea",
   "metadata": {},
   "outputs": [],
   "source": [
    "KNN_imputer = KNNImputer(n_neighbors=2250) #Paramètre sur lequel on peut jouer --> Après différents test, on choisit n=100\n",
    "KNN_col = ['nutrition-score-fr_100g', 'main_category']\n",
    "\n",
    "KNN_transformer = make_column_transformer((KNN_imputer, KNN_col), remainder='passthrough', verbose=True)"
   ]
  },
  {
   "cell_type": "code",
   "execution_count": 44,
   "id": "ff8c97c7",
   "metadata": {},
   "outputs": [],
   "source": [
    "test_data = data[0:1000]"
   ]
  },
  {
   "cell_type": "code",
   "execution_count": 45,
   "id": "ff62d15e",
   "metadata": {},
   "outputs": [
    {
     "name": "stdout",
     "output_type": "stream",
     "text": [
      "[ColumnTransformer] .... (1 of 2) Processing knnimputer, total=   0.0s\n",
      "[ColumnTransformer] ..... (2 of 2) Processing remainder, total=   0.0s\n"
     ]
    }
   ],
   "source": [
    "transformed_array = KNN_transformer.fit_transform(test_data)"
   ]
  },
  {
   "cell_type": "code",
   "execution_count": 46,
   "id": "792ef48d",
   "metadata": {},
   "outputs": [],
   "source": [
    "#Le KNN_imputer va replacer les colonnes transformées au début du DataFrame\n",
    "#On construit donc une nouvelle liste des noms de colonnes\n",
    "\n",
    "reshaped_data_col = ['nutrition-score-fr_100g',\n",
    "                     'main_category',\n",
    "                     'created_datetime',\n",
    "                     'last_modified_datetime',\n",
    "                     'product_name',\n",
    "                     'countries',\n",
    "                     'additives_n',\n",
    "                     'sugars_100g',\n",
    "                     'proteins_100g',\n",
    "                     'salt_100g',\n",
    "                     'energy_100g',\n",
    "                     'fat_100g',\n",
    "                     'cholesterol_100g',\n",
    "                     'fiber_100g',\n",
    "                     'carbohydrates_100g'\n",
    "                    ]\n",
    "\n",
    "transformed_data = pd.DataFrame(transformed_array, columns = reshaped_data_col)"
   ]
  },
  {
   "cell_type": "code",
   "execution_count": 47,
   "id": "ca24dec0",
   "metadata": {},
   "outputs": [
    {
     "data": {
      "text/html": [
       "<div>\n",
       "<style scoped>\n",
       "    .dataframe tbody tr th:only-of-type {\n",
       "        vertical-align: middle;\n",
       "    }\n",
       "\n",
       "    .dataframe tbody tr th {\n",
       "        vertical-align: top;\n",
       "    }\n",
       "\n",
       "    .dataframe thead th {\n",
       "        text-align: right;\n",
       "    }\n",
       "</style>\n",
       "<table border=\"1\" class=\"dataframe\">\n",
       "  <thead>\n",
       "    <tr style=\"text-align: right;\">\n",
       "      <th></th>\n",
       "      <th>nutrition-score-fr_100g</th>\n",
       "      <th>main_category</th>\n",
       "      <th>created_datetime</th>\n",
       "      <th>last_modified_datetime</th>\n",
       "      <th>product_name</th>\n",
       "      <th>countries</th>\n",
       "      <th>additives_n</th>\n",
       "      <th>sugars_100g</th>\n",
       "      <th>proteins_100g</th>\n",
       "      <th>salt_100g</th>\n",
       "      <th>energy_100g</th>\n",
       "      <th>fat_100g</th>\n",
       "      <th>cholesterol_100g</th>\n",
       "      <th>fiber_100g</th>\n",
       "      <th>carbohydrates_100g</th>\n",
       "    </tr>\n",
       "  </thead>\n",
       "  <tbody>\n",
       "    <tr>\n",
       "      <th>0</th>\n",
       "      <td>2.991087</td>\n",
       "      <td>731.102941</td>\n",
       "      <td>2016-09-17T09:17:46Z</td>\n",
       "      <td>2016-09-17T09:18:13Z</td>\n",
       "      <td>Farine de blé noir</td>\n",
       "      <td>en:FR</td>\n",
       "      <td>1.0</td>\n",
       "      <td>3.6</td>\n",
       "      <td>1.64</td>\n",
       "      <td>0.325</td>\n",
       "      <td>310.0</td>\n",
       "      <td>0.5</td>\n",
       "      <td>0.0</td>\n",
       "      <td>0.8</td>\n",
       "      <td>9.0</td>\n",
       "    </tr>\n",
       "    <tr>\n",
       "      <th>1</th>\n",
       "      <td>2.991087</td>\n",
       "      <td>731.102941</td>\n",
       "      <td>2017-03-09T10:35:13Z</td>\n",
       "      <td>2017-03-09T10:35:13Z</td>\n",
       "      <td>Real Salt Granular</td>\n",
       "      <td>US</td>\n",
       "      <td>0.0</td>\n",
       "      <td>3.6</td>\n",
       "      <td>1.64</td>\n",
       "      <td>96.15678</td>\n",
       "      <td>310.0</td>\n",
       "      <td>0.5</td>\n",
       "      <td>0.0</td>\n",
       "      <td>0.8</td>\n",
       "      <td>9.0</td>\n",
       "    </tr>\n",
       "    <tr>\n",
       "      <th>2</th>\n",
       "      <td>2.991087</td>\n",
       "      <td>1572.0</td>\n",
       "      <td>2015-06-17T08:45:04Z</td>\n",
       "      <td>2015-06-17T10:11:54Z</td>\n",
       "      <td>Filet de bœuf</td>\n",
       "      <td>France</td>\n",
       "      <td>1.0</td>\n",
       "      <td>3.6</td>\n",
       "      <td>1.64</td>\n",
       "      <td>0.325</td>\n",
       "      <td>310.0</td>\n",
       "      <td>0.5</td>\n",
       "      <td>0.0</td>\n",
       "      <td>0.8</td>\n",
       "      <td>9.0</td>\n",
       "    </tr>\n",
       "    <tr>\n",
       "      <th>3</th>\n",
       "      <td>2.991087</td>\n",
       "      <td>731.102941</td>\n",
       "      <td>2017-03-09T10:35:30Z</td>\n",
       "      <td>2017-03-09T10:35:30Z</td>\n",
       "      <td>Organic Small Red Chili Beans</td>\n",
       "      <td>US</td>\n",
       "      <td>0.0</td>\n",
       "      <td>2.78</td>\n",
       "      <td>22.22</td>\n",
       "      <td>0.17526</td>\n",
       "      <td>699.0</td>\n",
       "      <td>0.5</td>\n",
       "      <td>0.0</td>\n",
       "      <td>44.4</td>\n",
       "      <td>63.89</td>\n",
       "    </tr>\n",
       "    <tr>\n",
       "      <th>4</th>\n",
       "      <td>2.991087</td>\n",
       "      <td>731.102941</td>\n",
       "      <td>2017-03-09T10:35:09Z</td>\n",
       "      <td>2017-03-09T10:35:09Z</td>\n",
       "      <td>Fine Sea Salt</td>\n",
       "      <td>US</td>\n",
       "      <td>0.0</td>\n",
       "      <td>3.6</td>\n",
       "      <td>1.64</td>\n",
       "      <td>99.90582</td>\n",
       "      <td>310.0</td>\n",
       "      <td>0.5</td>\n",
       "      <td>0.0</td>\n",
       "      <td>0.8</td>\n",
       "      <td>9.0</td>\n",
       "    </tr>\n",
       "  </tbody>\n",
       "</table>\n",
       "</div>"
      ],
      "text/plain": [
       "  nutrition-score-fr_100g main_category      created_datetime  \\\n",
       "0                2.991087    731.102941  2016-09-17T09:17:46Z   \n",
       "1                2.991087    731.102941  2017-03-09T10:35:13Z   \n",
       "2                2.991087        1572.0  2015-06-17T08:45:04Z   \n",
       "3                2.991087    731.102941  2017-03-09T10:35:30Z   \n",
       "4                2.991087    731.102941  2017-03-09T10:35:09Z   \n",
       "\n",
       "  last_modified_datetime                   product_name countries additives_n  \\\n",
       "0   2016-09-17T09:18:13Z             Farine de blé noir     en:FR         1.0   \n",
       "1   2017-03-09T10:35:13Z             Real Salt Granular        US         0.0   \n",
       "2   2015-06-17T10:11:54Z                  Filet de bœuf    France         1.0   \n",
       "3   2017-03-09T10:35:30Z  Organic Small Red Chili Beans        US         0.0   \n",
       "4   2017-03-09T10:35:09Z                  Fine Sea Salt        US         0.0   \n",
       "\n",
       "  sugars_100g proteins_100g salt_100g energy_100g fat_100g cholesterol_100g  \\\n",
       "0         3.6          1.64     0.325       310.0      0.5              0.0   \n",
       "1         3.6          1.64  96.15678       310.0      0.5              0.0   \n",
       "2         3.6          1.64     0.325       310.0      0.5              0.0   \n",
       "3        2.78         22.22   0.17526       699.0      0.5              0.0   \n",
       "4         3.6          1.64  99.90582       310.0      0.5              0.0   \n",
       "\n",
       "  fiber_100g carbohydrates_100g  \n",
       "0        0.8                9.0  \n",
       "1        0.8                9.0  \n",
       "2        0.8                9.0  \n",
       "3       44.4              63.89  \n",
       "4        0.8                9.0  "
      ]
     },
     "execution_count": 47,
     "metadata": {},
     "output_type": "execute_result"
    }
   ],
   "source": [
    "transformed_data.head()"
   ]
  },
  {
   "cell_type": "code",
   "execution_count": 48,
   "id": "e2ff1baf",
   "metadata": {},
   "outputs": [
    {
     "data": {
      "text/plain": [
       "nutrition-score-fr_100g    0\n",
       "main_category              0\n",
       "created_datetime           0\n",
       "last_modified_datetime     0\n",
       "product_name               0\n",
       "countries                  0\n",
       "additives_n                0\n",
       "sugars_100g                0\n",
       "proteins_100g              0\n",
       "salt_100g                  0\n",
       "energy_100g                0\n",
       "fat_100g                   0\n",
       "cholesterol_100g           0\n",
       "fiber_100g                 0\n",
       "carbohydrates_100g         0\n",
       "dtype: int64"
      ]
     },
     "execution_count": 48,
     "metadata": {},
     "output_type": "execute_result"
    }
   ],
   "source": [
    "transformed_data.isna().sum()"
   ]
  },
  {
   "cell_type": "code",
   "execution_count": 49,
   "id": "75efad50",
   "metadata": {},
   "outputs": [
    {
     "data": {
      "text/plain": [
       " 2.991087     439\n",
       " 1.000000      70\n",
       " 0.000000      56\n",
       " 2.000000      47\n",
       " 5.000000      39\n",
       "-1.000000      39\n",
       " 6.000000      33\n",
       " 3.000000      32\n",
       "-2.000000      31\n",
       "-3.000000      28\n",
       "-4.000000      27\n",
       " 12.000000     25\n",
       " 4.000000      25\n",
       " 13.000000     19\n",
       "-5.000000      18\n",
       " 9.000000      12\n",
       " 10.000000      9\n",
       " 7.000000       8\n",
       " 11.000000      8\n",
       " 8.000000       7\n",
       " 15.000000      6\n",
       " 14.000000      6\n",
       " 19.000000      4\n",
       " 18.000000      3\n",
       "-6.000000       2\n",
       " 17.000000      2\n",
       " 16.000000      2\n",
       " 20.000000      1\n",
       "-8.000000       1\n",
       "-7.000000       1\n",
       "Name: nutrition-score-fr_100g, dtype: int64"
      ]
     },
     "execution_count": 49,
     "metadata": {},
     "output_type": "execute_result"
    }
   ],
   "source": [
    "transformed_data['nutrition-score-fr_100g'].value_counts()"
   ]
  },
  {
   "cell_type": "code",
   "execution_count": 50,
   "id": "b80db97b",
   "metadata": {},
   "outputs": [
    {
     "data": {
      "text/plain": [
       "731.102941     932\n",
       "533.000000       6\n",
       "576.000000       5\n",
       "309.000000       3\n",
       "396.000000       3\n",
       "782.000000       3\n",
       "662.000000       3\n",
       "430.000000       3\n",
       "867.000000       2\n",
       "616.000000       2\n",
       "1012.000000      2\n",
       "1017.000000      2\n",
       "288.000000       2\n",
       "1149.000000      2\n",
       "254.000000       2\n",
       "783.000000       2\n",
       "781.000000       2\n",
       "984.000000       1\n",
       "754.000000       1\n",
       "880.000000       1\n",
       "621.000000       1\n",
       "361.000000       1\n",
       "2268.000000      1\n",
       "858.000000       1\n",
       "345.000000       1\n",
       "384.000000       1\n",
       "340.000000       1\n",
       "972.000000       1\n",
       "1097.000000      1\n",
       "1988.000000      1\n",
       "1029.000000      1\n",
       "959.000000       1\n",
       "316.000000       1\n",
       "1077.000000      1\n",
       "1067.000000      1\n",
       "810.000000       1\n",
       "1830.000000      1\n",
       "1572.000000      1\n",
       "673.000000       1\n",
       "287.000000       1\n",
       "894.000000       1\n",
       "Name: main_category, dtype: int64"
      ]
     },
     "execution_count": 50,
     "metadata": {},
     "output_type": "execute_result"
    }
   ],
   "source": [
    "transformed_data['main_category'].value_counts()"
   ]
  },
  {
   "cell_type": "markdown",
   "id": "94ff3a66",
   "metadata": {},
   "source": [
    "On a plus de données manquantes sur le dataset, mais les données des colonnes nutrition-score-fr_100g et main_category ont été souvent remplacées par la même valeur. Il faut revoir notre modèle avant de généraliser. Peut-être que c'est dû au faible nombre de données sur notre échantillon. Augmentons la taille de l'échantillon pour voir si on obtient de meilleurs résultats."
   ]
  },
  {
   "cell_type": "code",
   "execution_count": 51,
   "id": "8327ca6a",
   "metadata": {},
   "outputs": [],
   "source": [
    "test_data_v2 = data[0:10000]"
   ]
  },
  {
   "cell_type": "code",
   "execution_count": 52,
   "id": "3557196f",
   "metadata": {},
   "outputs": [
    {
     "name": "stdout",
     "output_type": "stream",
     "text": [
      "[ColumnTransformer] .... (1 of 2) Processing knnimputer, total=   3.8s\n",
      "[ColumnTransformer] ..... (2 of 2) Processing remainder, total=   0.0s\n"
     ]
    }
   ],
   "source": [
    "transformed_array_v2 = KNN_transformer.fit_transform(test_data_v2)"
   ]
  },
  {
   "cell_type": "code",
   "execution_count": 53,
   "id": "e06e39d9",
   "metadata": {},
   "outputs": [],
   "source": [
    "transformed_data_v2 = pd.DataFrame(transformed_array_v2, columns = reshaped_data_col)"
   ]
  },
  {
   "cell_type": "code",
   "execution_count": 54,
   "id": "8e3c51a0",
   "metadata": {},
   "outputs": [
    {
     "data": {
      "text/plain": [
       " 2.526571     3045\n",
       " 0.000000      913\n",
       " 1.000000      796\n",
       " 2.000000      732\n",
       "-1.000000      591\n",
       " 3.000000      485\n",
       "-3.000000      367\n",
       "-2.000000      359\n",
       " 4.000000      289\n",
       "-4.000000      271\n",
       " 5.000000      242\n",
       " 12.000000     202\n",
       " 6.000000      185\n",
       " 11.000000     173\n",
       " 2.781778      162\n",
       " 13.000000     134\n",
       "-5.000000      125\n",
       " 10.000000     119\n",
       " 7.000000      106\n",
       " 15.000000      96\n",
       "-6.000000       82\n",
       " 9.000000       82\n",
       " 14.000000      81\n",
       " 8.000000       76\n",
       " 16.000000      62\n",
       "-8.000000       46\n",
       " 19.000000      44\n",
       "-7.000000       34\n",
       " 17.000000      32\n",
       " 18.000000      28\n",
       " 20.000000      20\n",
       "-9.000000       11\n",
       "-10.000000       4\n",
       " 22.000000       3\n",
       " 21.000000       2\n",
       " 23.000000       1\n",
       "Name: nutrition-score-fr_100g, dtype: int64"
      ]
     },
     "execution_count": 54,
     "metadata": {},
     "output_type": "execute_result"
    }
   ],
   "source": [
    "transformed_data_v2['nutrition-score-fr_100g'].value_counts() #On remarque qu'il y a des valeurs négatives"
   ]
  },
  {
   "cell_type": "code",
   "execution_count": 55,
   "id": "476fb967",
   "metadata": {},
   "outputs": [
    {
     "data": {
      "text/plain": [
       "672.954545     9692\n",
       "254.000000       33\n",
       "662.000000       28\n",
       "316.000000       24\n",
       "1012.000000      11\n",
       "               ... \n",
       "589.000000        1\n",
       "244.000000        1\n",
       "1572.000000       1\n",
       "263.000000        1\n",
       "2044.000000       1\n",
       "Name: main_category, Length: 113, dtype: int64"
      ]
     },
     "execution_count": 55,
     "metadata": {},
     "output_type": "execute_result"
    }
   ],
   "source": [
    "transformed_data_v2['main_category'].value_counts()"
   ]
  },
  {
   "cell_type": "markdown",
   "id": "cb4968fe",
   "metadata": {},
   "source": [
    "Les performances ont l'air meilleures - les valeurs remplacées sont plus variées et plus dispersées. On a encore une concentration sur la première valeur, mais avec le très grand nombre de données du dataset, le modèle devrait obtenir de bonnes performances. On peut donc généraliser notre modèle."
   ]
  },
  {
   "cell_type": "code",
   "execution_count": 56,
   "id": "b8f9b859",
   "metadata": {},
   "outputs": [
    {
     "name": "stdout",
     "output_type": "stream",
     "text": [
      "[ColumnTransformer] .... (1 of 2) Processing knnimputer, total=21.9min\n",
      "[ColumnTransformer] ..... (2 of 2) Processing remainder, total=   0.0s\n"
     ]
    }
   ],
   "source": [
    "array = KNN_transformer.fit_transform(data)"
   ]
  },
  {
   "cell_type": "code",
   "execution_count": 57,
   "id": "9bfc0324",
   "metadata": {},
   "outputs": [],
   "source": [
    "clean_data = pd.DataFrame(array, columns = reshaped_data_col)"
   ]
  },
  {
   "cell_type": "code",
   "execution_count": 58,
   "id": "5d4907bd",
   "metadata": {},
   "outputs": [
    {
     "data": {
      "text/html": [
       "<div>\n",
       "<style scoped>\n",
       "    .dataframe tbody tr th:only-of-type {\n",
       "        vertical-align: middle;\n",
       "    }\n",
       "\n",
       "    .dataframe tbody tr th {\n",
       "        vertical-align: top;\n",
       "    }\n",
       "\n",
       "    .dataframe thead th {\n",
       "        text-align: right;\n",
       "    }\n",
       "</style>\n",
       "<table border=\"1\" class=\"dataframe\">\n",
       "  <thead>\n",
       "    <tr style=\"text-align: right;\">\n",
       "      <th></th>\n",
       "      <th>nutrition-score-fr_100g</th>\n",
       "      <th>main_category</th>\n",
       "      <th>created_datetime</th>\n",
       "      <th>last_modified_datetime</th>\n",
       "      <th>product_name</th>\n",
       "      <th>countries</th>\n",
       "      <th>additives_n</th>\n",
       "      <th>sugars_100g</th>\n",
       "      <th>proteins_100g</th>\n",
       "      <th>salt_100g</th>\n",
       "      <th>energy_100g</th>\n",
       "      <th>fat_100g</th>\n",
       "      <th>cholesterol_100g</th>\n",
       "      <th>fiber_100g</th>\n",
       "      <th>carbohydrates_100g</th>\n",
       "    </tr>\n",
       "  </thead>\n",
       "  <tbody>\n",
       "    <tr>\n",
       "      <th>0</th>\n",
       "      <td>2.792462</td>\n",
       "      <td>714.123491</td>\n",
       "      <td>2016-09-17T09:17:46Z</td>\n",
       "      <td>2016-09-17T09:18:13Z</td>\n",
       "      <td>Farine de blé noir</td>\n",
       "      <td>en:FR</td>\n",
       "      <td>1.0</td>\n",
       "      <td>3.6</td>\n",
       "      <td>1.64</td>\n",
       "      <td>0.325</td>\n",
       "      <td>310.0</td>\n",
       "      <td>0.5</td>\n",
       "      <td>0.0</td>\n",
       "      <td>0.8</td>\n",
       "      <td>9.0</td>\n",
       "    </tr>\n",
       "    <tr>\n",
       "      <th>1</th>\n",
       "      <td>2.792462</td>\n",
       "      <td>714.123491</td>\n",
       "      <td>2017-03-09T10:35:13Z</td>\n",
       "      <td>2017-03-09T10:35:13Z</td>\n",
       "      <td>Real Salt Granular</td>\n",
       "      <td>US</td>\n",
       "      <td>0.0</td>\n",
       "      <td>3.6</td>\n",
       "      <td>1.64</td>\n",
       "      <td>96.15678</td>\n",
       "      <td>310.0</td>\n",
       "      <td>0.5</td>\n",
       "      <td>0.0</td>\n",
       "      <td>0.8</td>\n",
       "      <td>9.0</td>\n",
       "    </tr>\n",
       "    <tr>\n",
       "      <th>2</th>\n",
       "      <td>2.104444</td>\n",
       "      <td>1572.0</td>\n",
       "      <td>2015-06-17T08:45:04Z</td>\n",
       "      <td>2015-06-17T10:11:54Z</td>\n",
       "      <td>Filet de bœuf</td>\n",
       "      <td>France</td>\n",
       "      <td>1.0</td>\n",
       "      <td>3.6</td>\n",
       "      <td>1.64</td>\n",
       "      <td>0.325</td>\n",
       "      <td>310.0</td>\n",
       "      <td>0.5</td>\n",
       "      <td>0.0</td>\n",
       "      <td>0.8</td>\n",
       "      <td>9.0</td>\n",
       "    </tr>\n",
       "    <tr>\n",
       "      <th>3</th>\n",
       "      <td>2.792462</td>\n",
       "      <td>714.123491</td>\n",
       "      <td>2017-03-09T10:35:30Z</td>\n",
       "      <td>2017-03-09T10:35:30Z</td>\n",
       "      <td>Organic Small Red Chili Beans</td>\n",
       "      <td>US</td>\n",
       "      <td>0.0</td>\n",
       "      <td>2.78</td>\n",
       "      <td>22.22</td>\n",
       "      <td>0.17526</td>\n",
       "      <td>699.0</td>\n",
       "      <td>0.5</td>\n",
       "      <td>0.0</td>\n",
       "      <td>44.4</td>\n",
       "      <td>63.89</td>\n",
       "    </tr>\n",
       "    <tr>\n",
       "      <th>4</th>\n",
       "      <td>2.792462</td>\n",
       "      <td>714.123491</td>\n",
       "      <td>2017-03-09T10:35:09Z</td>\n",
       "      <td>2017-03-09T10:35:09Z</td>\n",
       "      <td>Fine Sea Salt</td>\n",
       "      <td>US</td>\n",
       "      <td>0.0</td>\n",
       "      <td>3.6</td>\n",
       "      <td>1.64</td>\n",
       "      <td>99.90582</td>\n",
       "      <td>310.0</td>\n",
       "      <td>0.5</td>\n",
       "      <td>0.0</td>\n",
       "      <td>0.8</td>\n",
       "      <td>9.0</td>\n",
       "    </tr>\n",
       "  </tbody>\n",
       "</table>\n",
       "</div>"
      ],
      "text/plain": [
       "  nutrition-score-fr_100g main_category      created_datetime  \\\n",
       "0                2.792462    714.123491  2016-09-17T09:17:46Z   \n",
       "1                2.792462    714.123491  2017-03-09T10:35:13Z   \n",
       "2                2.104444        1572.0  2015-06-17T08:45:04Z   \n",
       "3                2.792462    714.123491  2017-03-09T10:35:30Z   \n",
       "4                2.792462    714.123491  2017-03-09T10:35:09Z   \n",
       "\n",
       "  last_modified_datetime                   product_name countries additives_n  \\\n",
       "0   2016-09-17T09:18:13Z             Farine de blé noir     en:FR         1.0   \n",
       "1   2017-03-09T10:35:13Z             Real Salt Granular        US         0.0   \n",
       "2   2015-06-17T10:11:54Z                  Filet de bœuf    France         1.0   \n",
       "3   2017-03-09T10:35:30Z  Organic Small Red Chili Beans        US         0.0   \n",
       "4   2017-03-09T10:35:09Z                  Fine Sea Salt        US         0.0   \n",
       "\n",
       "  sugars_100g proteins_100g salt_100g energy_100g fat_100g cholesterol_100g  \\\n",
       "0         3.6          1.64     0.325       310.0      0.5              0.0   \n",
       "1         3.6          1.64  96.15678       310.0      0.5              0.0   \n",
       "2         3.6          1.64     0.325       310.0      0.5              0.0   \n",
       "3        2.78         22.22   0.17526       699.0      0.5              0.0   \n",
       "4         3.6          1.64  99.90582       310.0      0.5              0.0   \n",
       "\n",
       "  fiber_100g carbohydrates_100g  \n",
       "0        0.8                9.0  \n",
       "1        0.8                9.0  \n",
       "2        0.8                9.0  \n",
       "3       44.4              63.89  \n",
       "4        0.8                9.0  "
      ]
     },
     "execution_count": 58,
     "metadata": {},
     "output_type": "execute_result"
    }
   ],
   "source": [
    "clean_data.head()"
   ]
  },
  {
   "cell_type": "markdown",
   "id": "88083860",
   "metadata": {},
   "source": [
    "Il ne nous reste plus qu'à décoder les variables de la colonne main_category."
   ]
  },
  {
   "cell_type": "code",
   "execution_count": 59,
   "id": "e5fb18b9",
   "metadata": {},
   "outputs": [],
   "source": [
    "#Décoder les données de main_category\n",
    "\n",
    "def decode(data, col):\n",
    "    \"\"\"Fonction permettant de décoder les valeurs encodées\"\"\"\n",
    "    #On transforme la colonne spécifiée en np.array\n",
    "    encoded_arr = np.array(data[col])\n",
    "    #On reshape l'array\n",
    "    encoded_arr.reshape(-1, 1)\n",
    "    #On effectue la transformation inverse\n",
    "    decoded_data = encoder.inverse_transform(encoded_arr.reshape(-1,1))\n",
    "    #On supprime l'ancienne version de la colonne spécifiée\n",
    "    data.drop(col, axis=1, inplace=True)\n",
    "    #On crée une nouvelle colonne avec les données décodées\n",
    "    data[col] = decoded_data\n"
   ]
  },
  {
   "cell_type": "code",
   "execution_count": 60,
   "id": "a1ccd260",
   "metadata": {},
   "outputs": [],
   "source": [
    "decode(clean_data, 'main_category')"
   ]
  },
  {
   "cell_type": "code",
   "execution_count": 61,
   "id": "897277a4",
   "metadata": {},
   "outputs": [
    {
     "data": {
      "text/html": [
       "<div>\n",
       "<style scoped>\n",
       "    .dataframe tbody tr th:only-of-type {\n",
       "        vertical-align: middle;\n",
       "    }\n",
       "\n",
       "    .dataframe tbody tr th {\n",
       "        vertical-align: top;\n",
       "    }\n",
       "\n",
       "    .dataframe thead th {\n",
       "        text-align: right;\n",
       "    }\n",
       "</style>\n",
       "<table border=\"1\" class=\"dataframe\">\n",
       "  <thead>\n",
       "    <tr style=\"text-align: right;\">\n",
       "      <th></th>\n",
       "      <th>nutrition-score-fr_100g</th>\n",
       "      <th>created_datetime</th>\n",
       "      <th>last_modified_datetime</th>\n",
       "      <th>product_name</th>\n",
       "      <th>countries</th>\n",
       "      <th>additives_n</th>\n",
       "      <th>sugars_100g</th>\n",
       "      <th>proteins_100g</th>\n",
       "      <th>salt_100g</th>\n",
       "      <th>energy_100g</th>\n",
       "      <th>fat_100g</th>\n",
       "      <th>cholesterol_100g</th>\n",
       "      <th>fiber_100g</th>\n",
       "      <th>carbohydrates_100g</th>\n",
       "      <th>main_category</th>\n",
       "    </tr>\n",
       "  </thead>\n",
       "  <tbody>\n",
       "    <tr>\n",
       "      <th>0</th>\n",
       "      <td>2.792462</td>\n",
       "      <td>2016-09-17T09:17:46Z</td>\n",
       "      <td>2016-09-17T09:18:13Z</td>\n",
       "      <td>Farine de blé noir</td>\n",
       "      <td>en:FR</td>\n",
       "      <td>1.0</td>\n",
       "      <td>3.6</td>\n",
       "      <td>1.64</td>\n",
       "      <td>0.325</td>\n",
       "      <td>310.0</td>\n",
       "      <td>0.5</td>\n",
       "      <td>0.0</td>\n",
       "      <td>0.8</td>\n",
       "      <td>9.0</td>\n",
       "      <td>en:juice-beverage</td>\n",
       "    </tr>\n",
       "    <tr>\n",
       "      <th>1</th>\n",
       "      <td>2.792462</td>\n",
       "      <td>2017-03-09T10:35:13Z</td>\n",
       "      <td>2017-03-09T10:35:13Z</td>\n",
       "      <td>Real Salt Granular</td>\n",
       "      <td>US</td>\n",
       "      <td>0.0</td>\n",
       "      <td>3.6</td>\n",
       "      <td>1.64</td>\n",
       "      <td>96.15678</td>\n",
       "      <td>310.0</td>\n",
       "      <td>0.5</td>\n",
       "      <td>0.0</td>\n",
       "      <td>0.8</td>\n",
       "      <td>9.0</td>\n",
       "      <td>en:juice-beverage</td>\n",
       "    </tr>\n",
       "    <tr>\n",
       "      <th>2</th>\n",
       "      <td>2.104444</td>\n",
       "      <td>2015-06-17T08:45:04Z</td>\n",
       "      <td>2015-06-17T10:11:54Z</td>\n",
       "      <td>Filet de bœuf</td>\n",
       "      <td>France</td>\n",
       "      <td>1.0</td>\n",
       "      <td>3.6</td>\n",
       "      <td>1.64</td>\n",
       "      <td>0.325</td>\n",
       "      <td>310.0</td>\n",
       "      <td>0.5</td>\n",
       "      <td>0.0</td>\n",
       "      <td>0.8</td>\n",
       "      <td>9.0</td>\n",
       "      <td>fr:filet-de-boeuf</td>\n",
       "    </tr>\n",
       "    <tr>\n",
       "      <th>3</th>\n",
       "      <td>2.792462</td>\n",
       "      <td>2017-03-09T10:35:30Z</td>\n",
       "      <td>2017-03-09T10:35:30Z</td>\n",
       "      <td>Organic Small Red Chili Beans</td>\n",
       "      <td>US</td>\n",
       "      <td>0.0</td>\n",
       "      <td>2.78</td>\n",
       "      <td>22.22</td>\n",
       "      <td>0.17526</td>\n",
       "      <td>699.0</td>\n",
       "      <td>0.5</td>\n",
       "      <td>0.0</td>\n",
       "      <td>44.4</td>\n",
       "      <td>63.89</td>\n",
       "      <td>en:juice-beverage</td>\n",
       "    </tr>\n",
       "    <tr>\n",
       "      <th>4</th>\n",
       "      <td>2.792462</td>\n",
       "      <td>2017-03-09T10:35:09Z</td>\n",
       "      <td>2017-03-09T10:35:09Z</td>\n",
       "      <td>Fine Sea Salt</td>\n",
       "      <td>US</td>\n",
       "      <td>0.0</td>\n",
       "      <td>3.6</td>\n",
       "      <td>1.64</td>\n",
       "      <td>99.90582</td>\n",
       "      <td>310.0</td>\n",
       "      <td>0.5</td>\n",
       "      <td>0.0</td>\n",
       "      <td>0.8</td>\n",
       "      <td>9.0</td>\n",
       "      <td>en:juice-beverage</td>\n",
       "    </tr>\n",
       "  </tbody>\n",
       "</table>\n",
       "</div>"
      ],
      "text/plain": [
       "  nutrition-score-fr_100g      created_datetime last_modified_datetime  \\\n",
       "0                2.792462  2016-09-17T09:17:46Z   2016-09-17T09:18:13Z   \n",
       "1                2.792462  2017-03-09T10:35:13Z   2017-03-09T10:35:13Z   \n",
       "2                2.104444  2015-06-17T08:45:04Z   2015-06-17T10:11:54Z   \n",
       "3                2.792462  2017-03-09T10:35:30Z   2017-03-09T10:35:30Z   \n",
       "4                2.792462  2017-03-09T10:35:09Z   2017-03-09T10:35:09Z   \n",
       "\n",
       "                    product_name countries additives_n sugars_100g  \\\n",
       "0             Farine de blé noir     en:FR         1.0         3.6   \n",
       "1             Real Salt Granular        US         0.0         3.6   \n",
       "2                  Filet de bœuf    France         1.0         3.6   \n",
       "3  Organic Small Red Chili Beans        US         0.0        2.78   \n",
       "4                  Fine Sea Salt        US         0.0         3.6   \n",
       "\n",
       "  proteins_100g salt_100g energy_100g fat_100g cholesterol_100g fiber_100g  \\\n",
       "0          1.64     0.325       310.0      0.5              0.0        0.8   \n",
       "1          1.64  96.15678       310.0      0.5              0.0        0.8   \n",
       "2          1.64     0.325       310.0      0.5              0.0        0.8   \n",
       "3         22.22   0.17526       699.0      0.5              0.0       44.4   \n",
       "4          1.64  99.90582       310.0      0.5              0.0        0.8   \n",
       "\n",
       "  carbohydrates_100g      main_category  \n",
       "0                9.0  en:juice-beverage  \n",
       "1                9.0  en:juice-beverage  \n",
       "2                9.0  fr:filet-de-boeuf  \n",
       "3              63.89  en:juice-beverage  \n",
       "4                9.0  en:juice-beverage  "
      ]
     },
     "execution_count": 61,
     "metadata": {},
     "output_type": "execute_result"
    }
   ],
   "source": [
    "clean_data.head()"
   ]
  },
  {
   "cell_type": "code",
   "execution_count": 62,
   "id": "8406b558",
   "metadata": {},
   "outputs": [
    {
     "data": {
      "text/plain": [
       " 2.792462    45913\n",
       " 0.000000     9736\n",
       " 1.000000     9440\n",
       " 2.000000     8934\n",
       "-1.000000     6493\n",
       "             ...  \n",
       " 3.418667        1\n",
       " 2.145778        1\n",
       " 5.898667        1\n",
       " 2.073778        1\n",
       "-1.699556        1\n",
       "Name: nutrition-score-fr_100g, Length: 1100, dtype: int64"
      ]
     },
     "execution_count": 62,
     "metadata": {},
     "output_type": "execute_result"
    }
   ],
   "source": [
    "clean_data['nutrition-score-fr_100g'].value_counts()"
   ]
  },
  {
   "cell_type": "markdown",
   "id": "db59182d",
   "metadata": {},
   "source": [
    "On va finir par faire un peu d'ingénieurie pour faciliter la manipulation, l'analyse statistique et la visualisation de nos données :\n",
    "\n",
    "- Les valeurs des colonnes created_datetime et last_modified_datetime sont des chaînes de caractère, difficilement manipulables. On met ces valeurs au format pd.datetime ;\n",
    "- On va retirer la capsule renseignant la langue dans la variable main_category (ex: 'en:') à l'aide d'expressions régulières ;\n",
    "- Le format d'entrée des variables countries et main_category n'est pas très stable (alternance entre abréviation/nom de pays, alternance du signe de séparation entre les différents pays, avec :, virgule ou virgule avec espace). Il y a aussi des problèmes de polyphonie, puisque les variables sont renseignées en différentes langues On va essayer de standardiser la colonne countries en séparant les noms de pays à l'aide d'expressions régulières, en traduisant les noms de pays à l'aide de googletrans et en standardisant les notations des pays pour obtenir des listes de pays plus facilement manipulables."
   ]
  },
  {
   "cell_type": "code",
   "execution_count": 63,
   "id": "ed6efac3",
   "metadata": {},
   "outputs": [],
   "source": [
    "#On calcule le nombre de chiffres dans la date\n",
    "def number_digit(str):\n",
    "\n",
    "    flag_n = 0\n",
    "\n",
    "    for i in str:  \n",
    "        if i.isdigit():\n",
    "            flag_n += 1\n",
    "            \n",
    "    return flag_n"
   ]
  },
  {
   "cell_type": "code",
   "execution_count": 64,
   "id": "2db6d65d",
   "metadata": {},
   "outputs": [],
   "source": [
    "#On gère les exceptions en retirant les valeurs qui ne peuvent pas être converties au format datetime\n",
    "i = 0\n",
    "while i < clean_data.shape[0]:\n",
    "    if number_digit(clean_data['created_datetime'].iloc[i]) < 8:\n",
    "        clean_data = clean_data.drop(clean_data.index[i])\n",
    "        clean_data = clean_data.reset_index(drop=True)\n",
    "    else:\n",
    "        i += 1"
   ]
  },
  {
   "cell_type": "code",
   "execution_count": 65,
   "id": "143aa973",
   "metadata": {},
   "outputs": [],
   "source": [
    "i = 0\n",
    "while i < clean_data.shape[0]:\n",
    "    if number_digit(clean_data['last_modified_datetime'].iloc[i]) < 8:\n",
    "        clean_data = clean_data.drop(clean_data.index[i])\n",
    "        clean_data = clean_data.reset_index(drop=True)\n",
    "    else:\n",
    "        i += 1"
   ]
  },
  {
   "cell_type": "code",
   "execution_count": 66,
   "id": "9b31e519",
   "metadata": {},
   "outputs": [],
   "source": [
    "clean_data['created_datetime'] = pd.to_datetime(clean_data['created_datetime'])\n",
    "clean_data['last_modified_datetime'] = pd.to_datetime(clean_data['last_modified_datetime'])"
   ]
  },
  {
   "cell_type": "code",
   "execution_count": 67,
   "id": "6d74f8fb",
   "metadata": {},
   "outputs": [
    {
     "data": {
      "text/html": [
       "<div>\n",
       "<style scoped>\n",
       "    .dataframe tbody tr th:only-of-type {\n",
       "        vertical-align: middle;\n",
       "    }\n",
       "\n",
       "    .dataframe tbody tr th {\n",
       "        vertical-align: top;\n",
       "    }\n",
       "\n",
       "    .dataframe thead th {\n",
       "        text-align: right;\n",
       "    }\n",
       "</style>\n",
       "<table border=\"1\" class=\"dataframe\">\n",
       "  <thead>\n",
       "    <tr style=\"text-align: right;\">\n",
       "      <th></th>\n",
       "      <th>nutrition-score-fr_100g</th>\n",
       "      <th>created_datetime</th>\n",
       "      <th>last_modified_datetime</th>\n",
       "      <th>product_name</th>\n",
       "      <th>countries</th>\n",
       "      <th>additives_n</th>\n",
       "      <th>sugars_100g</th>\n",
       "      <th>proteins_100g</th>\n",
       "      <th>salt_100g</th>\n",
       "      <th>energy_100g</th>\n",
       "      <th>fat_100g</th>\n",
       "      <th>cholesterol_100g</th>\n",
       "      <th>fiber_100g</th>\n",
       "      <th>carbohydrates_100g</th>\n",
       "      <th>main_category</th>\n",
       "    </tr>\n",
       "  </thead>\n",
       "  <tbody>\n",
       "    <tr>\n",
       "      <th>0</th>\n",
       "      <td>2.792462</td>\n",
       "      <td>2016-09-17 09:17:46+00:00</td>\n",
       "      <td>2016-09-17 09:18:13+00:00</td>\n",
       "      <td>Farine de blé noir</td>\n",
       "      <td>en:FR</td>\n",
       "      <td>1.0</td>\n",
       "      <td>3.6</td>\n",
       "      <td>1.64</td>\n",
       "      <td>0.325</td>\n",
       "      <td>310.0</td>\n",
       "      <td>0.5</td>\n",
       "      <td>0.0</td>\n",
       "      <td>0.8</td>\n",
       "      <td>9.0</td>\n",
       "      <td>en:juice-beverage</td>\n",
       "    </tr>\n",
       "    <tr>\n",
       "      <th>1</th>\n",
       "      <td>2.792462</td>\n",
       "      <td>2017-03-09 10:35:13+00:00</td>\n",
       "      <td>2017-03-09 10:35:13+00:00</td>\n",
       "      <td>Real Salt Granular</td>\n",
       "      <td>US</td>\n",
       "      <td>0.0</td>\n",
       "      <td>3.6</td>\n",
       "      <td>1.64</td>\n",
       "      <td>96.15678</td>\n",
       "      <td>310.0</td>\n",
       "      <td>0.5</td>\n",
       "      <td>0.0</td>\n",
       "      <td>0.8</td>\n",
       "      <td>9.0</td>\n",
       "      <td>en:juice-beverage</td>\n",
       "    </tr>\n",
       "    <tr>\n",
       "      <th>2</th>\n",
       "      <td>2.104444</td>\n",
       "      <td>2015-06-17 08:45:04+00:00</td>\n",
       "      <td>2015-06-17 10:11:54+00:00</td>\n",
       "      <td>Filet de bœuf</td>\n",
       "      <td>France</td>\n",
       "      <td>1.0</td>\n",
       "      <td>3.6</td>\n",
       "      <td>1.64</td>\n",
       "      <td>0.325</td>\n",
       "      <td>310.0</td>\n",
       "      <td>0.5</td>\n",
       "      <td>0.0</td>\n",
       "      <td>0.8</td>\n",
       "      <td>9.0</td>\n",
       "      <td>fr:filet-de-boeuf</td>\n",
       "    </tr>\n",
       "    <tr>\n",
       "      <th>3</th>\n",
       "      <td>2.792462</td>\n",
       "      <td>2017-03-09 10:35:30+00:00</td>\n",
       "      <td>2017-03-09 10:35:30+00:00</td>\n",
       "      <td>Organic Small Red Chili Beans</td>\n",
       "      <td>US</td>\n",
       "      <td>0.0</td>\n",
       "      <td>2.78</td>\n",
       "      <td>22.22</td>\n",
       "      <td>0.17526</td>\n",
       "      <td>699.0</td>\n",
       "      <td>0.5</td>\n",
       "      <td>0.0</td>\n",
       "      <td>44.4</td>\n",
       "      <td>63.89</td>\n",
       "      <td>en:juice-beverage</td>\n",
       "    </tr>\n",
       "    <tr>\n",
       "      <th>4</th>\n",
       "      <td>2.792462</td>\n",
       "      <td>2017-03-09 10:35:09+00:00</td>\n",
       "      <td>2017-03-09 10:35:09+00:00</td>\n",
       "      <td>Fine Sea Salt</td>\n",
       "      <td>US</td>\n",
       "      <td>0.0</td>\n",
       "      <td>3.6</td>\n",
       "      <td>1.64</td>\n",
       "      <td>99.90582</td>\n",
       "      <td>310.0</td>\n",
       "      <td>0.5</td>\n",
       "      <td>0.0</td>\n",
       "      <td>0.8</td>\n",
       "      <td>9.0</td>\n",
       "      <td>en:juice-beverage</td>\n",
       "    </tr>\n",
       "  </tbody>\n",
       "</table>\n",
       "</div>"
      ],
      "text/plain": [
       "  nutrition-score-fr_100g          created_datetime    last_modified_datetime  \\\n",
       "0                2.792462 2016-09-17 09:17:46+00:00 2016-09-17 09:18:13+00:00   \n",
       "1                2.792462 2017-03-09 10:35:13+00:00 2017-03-09 10:35:13+00:00   \n",
       "2                2.104444 2015-06-17 08:45:04+00:00 2015-06-17 10:11:54+00:00   \n",
       "3                2.792462 2017-03-09 10:35:30+00:00 2017-03-09 10:35:30+00:00   \n",
       "4                2.792462 2017-03-09 10:35:09+00:00 2017-03-09 10:35:09+00:00   \n",
       "\n",
       "                    product_name countries additives_n sugars_100g  \\\n",
       "0             Farine de blé noir     en:FR         1.0         3.6   \n",
       "1             Real Salt Granular        US         0.0         3.6   \n",
       "2                  Filet de bœuf    France         1.0         3.6   \n",
       "3  Organic Small Red Chili Beans        US         0.0        2.78   \n",
       "4                  Fine Sea Salt        US         0.0         3.6   \n",
       "\n",
       "  proteins_100g salt_100g energy_100g fat_100g cholesterol_100g fiber_100g  \\\n",
       "0          1.64     0.325       310.0      0.5              0.0        0.8   \n",
       "1          1.64  96.15678       310.0      0.5              0.0        0.8   \n",
       "2          1.64     0.325       310.0      0.5              0.0        0.8   \n",
       "3         22.22   0.17526       699.0      0.5              0.0       44.4   \n",
       "4          1.64  99.90582       310.0      0.5              0.0        0.8   \n",
       "\n",
       "  carbohydrates_100g      main_category  \n",
       "0                9.0  en:juice-beverage  \n",
       "1                9.0  en:juice-beverage  \n",
       "2                9.0  fr:filet-de-boeuf  \n",
       "3              63.89  en:juice-beverage  \n",
       "4                9.0  en:juice-beverage  "
      ]
     },
     "execution_count": 67,
     "metadata": {},
     "output_type": "execute_result"
    }
   ],
   "source": [
    "clean_data.head()"
   ]
  },
  {
   "cell_type": "code",
   "execution_count": 68,
   "id": "7f4760f5",
   "metadata": {},
   "outputs": [],
   "source": [
    "def category_cleaner(main_category):\n",
    "    \n",
    "    if ':' in main_category:\n",
    "        clean_category = main_category.split(':')[1]\n",
    "        return clean_category\n",
    "    else:\n",
    "        return main_category"
   ]
  },
  {
   "cell_type": "code",
   "execution_count": 69,
   "id": "40a5b5db",
   "metadata": {},
   "outputs": [],
   "source": [
    "for i, e in enumerate(clean_data['main_category']):\n",
    "    if type(e) == float:\n",
    "        print(i, e)"
   ]
  },
  {
   "cell_type": "code",
   "execution_count": 70,
   "id": "9f1c123e",
   "metadata": {},
   "outputs": [],
   "source": [
    "clean_data['main_category'] = clean_data['main_category'].map(category_cleaner)"
   ]
  },
  {
   "cell_type": "code",
   "execution_count": 71,
   "id": "51411676",
   "metadata": {},
   "outputs": [
    {
     "data": {
      "text/html": [
       "<div>\n",
       "<style scoped>\n",
       "    .dataframe tbody tr th:only-of-type {\n",
       "        vertical-align: middle;\n",
       "    }\n",
       "\n",
       "    .dataframe tbody tr th {\n",
       "        vertical-align: top;\n",
       "    }\n",
       "\n",
       "    .dataframe thead th {\n",
       "        text-align: right;\n",
       "    }\n",
       "</style>\n",
       "<table border=\"1\" class=\"dataframe\">\n",
       "  <thead>\n",
       "    <tr style=\"text-align: right;\">\n",
       "      <th></th>\n",
       "      <th>nutrition-score-fr_100g</th>\n",
       "      <th>created_datetime</th>\n",
       "      <th>last_modified_datetime</th>\n",
       "      <th>product_name</th>\n",
       "      <th>countries</th>\n",
       "      <th>additives_n</th>\n",
       "      <th>sugars_100g</th>\n",
       "      <th>proteins_100g</th>\n",
       "      <th>salt_100g</th>\n",
       "      <th>energy_100g</th>\n",
       "      <th>fat_100g</th>\n",
       "      <th>cholesterol_100g</th>\n",
       "      <th>fiber_100g</th>\n",
       "      <th>carbohydrates_100g</th>\n",
       "      <th>main_category</th>\n",
       "    </tr>\n",
       "  </thead>\n",
       "  <tbody>\n",
       "    <tr>\n",
       "      <th>0</th>\n",
       "      <td>2.792462</td>\n",
       "      <td>2016-09-17 09:17:46+00:00</td>\n",
       "      <td>2016-09-17 09:18:13+00:00</td>\n",
       "      <td>Farine de blé noir</td>\n",
       "      <td>en:FR</td>\n",
       "      <td>1.0</td>\n",
       "      <td>3.6</td>\n",
       "      <td>1.64</td>\n",
       "      <td>0.325</td>\n",
       "      <td>310.0</td>\n",
       "      <td>0.5</td>\n",
       "      <td>0.0</td>\n",
       "      <td>0.8</td>\n",
       "      <td>9.0</td>\n",
       "      <td>juice-beverage</td>\n",
       "    </tr>\n",
       "    <tr>\n",
       "      <th>1</th>\n",
       "      <td>2.792462</td>\n",
       "      <td>2017-03-09 10:35:13+00:00</td>\n",
       "      <td>2017-03-09 10:35:13+00:00</td>\n",
       "      <td>Real Salt Granular</td>\n",
       "      <td>US</td>\n",
       "      <td>0.0</td>\n",
       "      <td>3.6</td>\n",
       "      <td>1.64</td>\n",
       "      <td>96.15678</td>\n",
       "      <td>310.0</td>\n",
       "      <td>0.5</td>\n",
       "      <td>0.0</td>\n",
       "      <td>0.8</td>\n",
       "      <td>9.0</td>\n",
       "      <td>juice-beverage</td>\n",
       "    </tr>\n",
       "    <tr>\n",
       "      <th>2</th>\n",
       "      <td>2.104444</td>\n",
       "      <td>2015-06-17 08:45:04+00:00</td>\n",
       "      <td>2015-06-17 10:11:54+00:00</td>\n",
       "      <td>Filet de bœuf</td>\n",
       "      <td>France</td>\n",
       "      <td>1.0</td>\n",
       "      <td>3.6</td>\n",
       "      <td>1.64</td>\n",
       "      <td>0.325</td>\n",
       "      <td>310.0</td>\n",
       "      <td>0.5</td>\n",
       "      <td>0.0</td>\n",
       "      <td>0.8</td>\n",
       "      <td>9.0</td>\n",
       "      <td>filet-de-boeuf</td>\n",
       "    </tr>\n",
       "    <tr>\n",
       "      <th>3</th>\n",
       "      <td>2.792462</td>\n",
       "      <td>2017-03-09 10:35:30+00:00</td>\n",
       "      <td>2017-03-09 10:35:30+00:00</td>\n",
       "      <td>Organic Small Red Chili Beans</td>\n",
       "      <td>US</td>\n",
       "      <td>0.0</td>\n",
       "      <td>2.78</td>\n",
       "      <td>22.22</td>\n",
       "      <td>0.17526</td>\n",
       "      <td>699.0</td>\n",
       "      <td>0.5</td>\n",
       "      <td>0.0</td>\n",
       "      <td>44.4</td>\n",
       "      <td>63.89</td>\n",
       "      <td>juice-beverage</td>\n",
       "    </tr>\n",
       "    <tr>\n",
       "      <th>4</th>\n",
       "      <td>2.792462</td>\n",
       "      <td>2017-03-09 10:35:09+00:00</td>\n",
       "      <td>2017-03-09 10:35:09+00:00</td>\n",
       "      <td>Fine Sea Salt</td>\n",
       "      <td>US</td>\n",
       "      <td>0.0</td>\n",
       "      <td>3.6</td>\n",
       "      <td>1.64</td>\n",
       "      <td>99.90582</td>\n",
       "      <td>310.0</td>\n",
       "      <td>0.5</td>\n",
       "      <td>0.0</td>\n",
       "      <td>0.8</td>\n",
       "      <td>9.0</td>\n",
       "      <td>juice-beverage</td>\n",
       "    </tr>\n",
       "  </tbody>\n",
       "</table>\n",
       "</div>"
      ],
      "text/plain": [
       "  nutrition-score-fr_100g          created_datetime    last_modified_datetime  \\\n",
       "0                2.792462 2016-09-17 09:17:46+00:00 2016-09-17 09:18:13+00:00   \n",
       "1                2.792462 2017-03-09 10:35:13+00:00 2017-03-09 10:35:13+00:00   \n",
       "2                2.104444 2015-06-17 08:45:04+00:00 2015-06-17 10:11:54+00:00   \n",
       "3                2.792462 2017-03-09 10:35:30+00:00 2017-03-09 10:35:30+00:00   \n",
       "4                2.792462 2017-03-09 10:35:09+00:00 2017-03-09 10:35:09+00:00   \n",
       "\n",
       "                    product_name countries additives_n sugars_100g  \\\n",
       "0             Farine de blé noir     en:FR         1.0         3.6   \n",
       "1             Real Salt Granular        US         0.0         3.6   \n",
       "2                  Filet de bœuf    France         1.0         3.6   \n",
       "3  Organic Small Red Chili Beans        US         0.0        2.78   \n",
       "4                  Fine Sea Salt        US         0.0         3.6   \n",
       "\n",
       "  proteins_100g salt_100g energy_100g fat_100g cholesterol_100g fiber_100g  \\\n",
       "0          1.64     0.325       310.0      0.5              0.0        0.8   \n",
       "1          1.64  96.15678       310.0      0.5              0.0        0.8   \n",
       "2          1.64     0.325       310.0      0.5              0.0        0.8   \n",
       "3         22.22   0.17526       699.0      0.5              0.0       44.4   \n",
       "4          1.64  99.90582       310.0      0.5              0.0        0.8   \n",
       "\n",
       "  carbohydrates_100g   main_category  \n",
       "0                9.0  juice-beverage  \n",
       "1                9.0  juice-beverage  \n",
       "2                9.0  filet-de-boeuf  \n",
       "3              63.89  juice-beverage  \n",
       "4                9.0  juice-beverage  "
      ]
     },
     "execution_count": 71,
     "metadata": {},
     "output_type": "execute_result"
    }
   ],
   "source": [
    "clean_data.head()"
   ]
  },
  {
   "cell_type": "code",
   "execution_count": 72,
   "id": "3585aa12",
   "metadata": {},
   "outputs": [],
   "source": [
    "#!pip install deep-translator #A exécuter sur AI Platform\n",
    "\n",
    "import re\n",
    "from deep_translator import GoogleTranslator\n",
    "\n",
    "def countries_standardize(l_countries):\n",
    "\n",
    "    #On met toutes les chaînes de caractères en minuscule et on les split\n",
    "    sublist = re.split(':|, |,', l_countries.lower())\n",
    "    translated_sublist = []\n",
    "    \n",
    "    #On traduit les différents noms de pays qui ne sont pas abbréviés\n",
    "    for c in sublist:\n",
    "        if len(c) > 2: \n",
    "            translated = GoogleTranslator(source='auto', target='en').translate(c) #On traduit vers l'anglais\n",
    "            translated_sublist.append(translated.lower())\n",
    "        else:\n",
    "            translated_sublist.append(c)\n",
    "    \n",
    "\n",
    "    #Maintenant, on abriève les noms de pays en gérant les exceptions pour standardiser les noms de pays\n",
    "    standardized_sublist = []\n",
    "    for c in translated_sublist:\n",
    "        if c == \"el salvador\":\n",
    "            new_c = 'sa'\n",
    "                \n",
    "        elif c == 'usa':\n",
    "            new_c = 'us'  \n",
    "                    \n",
    "    #On utilise à nouveau les expressions régulières pour gérer tirets et espaces (ex: united-kingdom / united states)\n",
    "        elif ' ' in c or '-' in c:\n",
    "            new_c = ''\n",
    "            for k in re.split('-| ', c):\n",
    "                new_c += k[0]\n",
    "                    \n",
    "        elif len(c) > 2:\n",
    "            new_c = c[0:2]\n",
    "            if new_c == 'sp':\n",
    "                new_c = 'es'\n",
    "                    \n",
    "        else:\n",
    "            new_c = c\n",
    "        \n",
    "        standardized_sublist.append(new_c)\n",
    "                \n",
    "    return standardized_sublist"
   ]
  },
  {
   "cell_type": "code",
   "execution_count": 73,
   "id": "9b5d6147",
   "metadata": {},
   "outputs": [
    {
     "name": "stdout",
     "output_type": "stream",
     "text": [
      "en:FR---------------------------------------------['en', 'fr']\n",
      "US------------------------------------------------['us']\n",
      "France--------------------------------------------['fr']\n",
      "US------------------------------------------------['us']\n",
      "US------------------------------------------------['us']\n",
      "US------------------------------------------------['us']\n"
     ]
    }
   ],
   "source": [
    "for i, e in enumerate(clean_data['countries']):\n",
    "    print(f'{e :-<50}{countries_standardize(e)}')\n",
    "    if i == 5:\n",
    "        break"
   ]
  },
  {
   "cell_type": "markdown",
   "id": "9c359e07",
   "metadata": {},
   "source": [
    "Cette fonction présente plusieurs problèmes majeurs : \n",
    "\n",
    "- Le traitement du 'en:' qui signifie simplement que l'intitulé du produit est en anglais. Il faut donc rectifier pour retirer cette parti de la chaîne de caractères. \n",
    "- En outre, la fonction prend énormément de temps pour s'éxecuter sur l'ensemble de la base de données. On peut améliorer les performances en utilisant moins de boucles for et de listes différentes. \n",
    "- Enfin, il faut noter que l'API GoogleTranslator impose un maximum de requêtes de 200 000 par jour\n",
    "\n",
    "On propose donc une deuxième version de la fonction :"
   ]
  },
  {
   "cell_type": "code",
   "execution_count": 74,
   "id": "7167d91d",
   "metadata": {},
   "outputs": [],
   "source": [
    "#!pip install deep-translator #A exécuter sur AI Platform\n",
    "\n",
    "\n",
    "import re\n",
    "from deep_translator import GoogleTranslator\n",
    "\n",
    "\n",
    "#On crée des listes avec les formes courantes pour les pays les plus fréquents\n",
    "l_fr = ['France', 'france', 'Francia', 'francia', 'Frankreich', 'frankreich']\n",
    "l_us = ['United-States', 'United States', 'united-states', 'united states', 'Etats-Unis', 'Etats Unis', 'états-unis', 'états unis', 'Estados-Unidos', 'Estados Unidos', 'estados-unidos', 'estados unidos'] \n",
    "l_uk = ['United-Kingdom', 'United Kingdom', 'united-kingdom', 'united kingdom', 'Royaume-Uni', 'Royaume Uni', 'royaume-uni', 'royaume uni', 'Reino-Unido', 'Reino Unido', 'reino-unido', 'reino unido']\n",
    "l_ge = ['Germany', 'germany', 'Allemagne', 'allemagne', 'Deutschland', 'deutschland', 'Alemania', 'alemania']\n",
    "l_es = ['Spain', 'spain', 'Espagne', 'espagne', 'España', 'españa']\n",
    "l_it = ['Italy', 'italy', 'Italie', 'italie', 'Italia', 'italia']\n",
    "l_ne = ['Nederland', 'nederland', 'Pays-Bas', 'pays-bas', 'Pays Bas', 'pays bas']\n",
    "l_sw = ['Suisse', 'suisse', 'Switzerland', 'switzerland']\n",
    "l_be = ['Belgique', 'belgique', 'Belgium', 'belgium']\n",
    "l_po = ['Portugal', 'portugal']\n",
    "l_ca = ['Canada', 'canda']\n",
    "l_de = ['Denmark', 'denmark', 'Danemark', 'danemark']\n",
    "l_br = ['Brasil', 'brasil', 'Brésil', 'brésil']\n",
    "l_au = ['Österreich', 'österreich', 'Autriche', 'autriche', 'Austria', 'austria']\n",
    "l_ir = ['Ireland', 'ireland', 'Irlande', 'irlande']\n",
    "l_ru = ['Россия', 'Russia', 'russia', 'Russie', 'russie']\n",
    "            \n",
    "    \n",
    "sum = 0\n",
    "def countries_standardize_v2(l_countries):\n",
    "    \n",
    "    #On met toutes les chaînes de caractères en minuscule et on les split\n",
    "    sublist = re.split(', |,', l_countries.lower()) \n",
    "    standardized_sublist = []\n",
    "\n",
    "    global l_fr, l_us, l_uk, l_ge, l_es, l_it\n",
    "    \n",
    "    for c in sublist:\n",
    "        \n",
    "        if ':' in c:\n",
    "            c = c.split(':')[1]\n",
    "            \n",
    "\n",
    "        #Gestion des exceptions pour standardiser les noms de pays\n",
    "        if c == \"el salvador\":\n",
    "            new_c = 'sa'\n",
    "        \n",
    "        elif c == 'usa':\n",
    "            new_c = 'us'\n",
    "            \n",
    "        elif c == 'australia':\n",
    "            new_c = 'aus'\n",
    "            \n",
    "       #Utilisation de listes de pays pour réduire le nombre de traductions    \n",
    "        elif c in l_fr:\n",
    "            new_c = 'fr'\n",
    "            \n",
    "        elif c in l_us:\n",
    "            new_c = 'us'\n",
    "\n",
    "        elif c in l_uk:\n",
    "            new_c = 'uk'\n",
    "\n",
    "        elif c in l_ge:\n",
    "            new_c = 'ge'\n",
    "            \n",
    "        elif c in l_es:\n",
    "            new_c = 'es'\n",
    "            \n",
    "        elif c in l_fr:\n",
    "            new_c = 'fr'\n",
    "            \n",
    "        elif c in l_ne:\n",
    "            new_c = 'ne'\n",
    "            \n",
    "        elif c in l_sw:\n",
    "            new_c = 'sw'\n",
    "            \n",
    "        elif c in l_be:\n",
    "            new_c = 'be'\n",
    "            \n",
    "        elif c in l_po:\n",
    "            new_c = 'po'\n",
    "            \n",
    "        elif c in l_ca:\n",
    "            new_c = 'ca'\n",
    "            \n",
    "        elif c in l_de:\n",
    "            new_c = 'de'  \n",
    "            \n",
    "        elif c in l_br:\n",
    "            new_c = 'br'  \n",
    "            \n",
    "        elif c in l_au:\n",
    "            new_c = 'au'  \n",
    "            \n",
    "        elif c in l_ir:\n",
    "            new_c = 'ir'\n",
    "            \n",
    "        elif c in l_ru:\n",
    "            new_c = 'ru' \n",
    "            \n",
    "        #Gestion des tirets et espaces autres que Etats-Unis et RU (ex: emirats arabes unis, Arabie Saoudite, Honk-Kong, etc)\n",
    "        elif ' ' in c or '-' in c:\n",
    "            new_c = ''\n",
    "            for k in re.split('-| ', c): #On utilise à nouveau les expressions régulières pour gérer\n",
    "                new_c += k[0]\n",
    "                    \n",
    "        #Traduction et abréviation \n",
    "        elif len(c) > 2: \n",
    "           #On traduit en anglais les différents noms de pays qui ne sont pas abréviés\n",
    "            translated = GoogleTranslator(source='auto', target='en').translate(c).lower() #On traduit vers l'anglais et on met en minuscule\n",
    "            \n",
    "            #On gère à nouveaux les exceptions\n",
    "            if translated == 'sweden':\n",
    "                new_c = 'swe'\n",
    "            \n",
    "            elif translated == 'sp':\n",
    "                new_c = 'es'\n",
    "            else:            \n",
    "                #On prend les deux premières lettres du terme en anglais pour l'abrévier\n",
    "                new_c = translated[0:2]\n",
    "                    \n",
    "        else:\n",
    "            new_c = c\n",
    "        \n",
    "        standardized_sublist.append(new_c)\n",
    "                \n",
    "    return standardized_sublist"
   ]
  },
  {
   "cell_type": "markdown",
   "id": "4efa5dea",
   "metadata": {},
   "source": [
    "Pour encore optimiser notre fonction en limitant le recours à l'API googletranslator - et pour ne pas dépasser la limite imposée par le service, nous appliquons cette fonction sur les valeurs uniques de la colonne countries  pour obtenir un dictionnaire des formes présentes et des abréviations standardisées. A partir de ce dictionnaire, on transforme la colonne countries du dataset à l'aide d'une fonction simple."
   ]
  },
  {
   "cell_type": "code",
   "execution_count": 75,
   "id": "65deef6f",
   "metadata": {},
   "outputs": [],
   "source": [
    "dic_countries = {}\n",
    "for e in clean_data['countries'].unique():\n",
    "    dic_countries[e] = countries_standardize_v2(e)"
   ]
  },
  {
   "cell_type": "code",
   "execution_count": 76,
   "id": "26a3ffa9",
   "metadata": {},
   "outputs": [],
   "source": [
    "def countries_transformer(l_countries, dic_countries):\n",
    "    return dic_countries[l_countries]"
   ]
  },
  {
   "cell_type": "code",
   "execution_count": 77,
   "id": "20d4f82c",
   "metadata": {},
   "outputs": [
    {
     "name": "stdout",
     "output_type": "stream",
     "text": [
      "en:FR---------------------------------------------['fr']\n",
      "US------------------------------------------------['us']\n",
      "France--------------------------------------------['fr']\n",
      "US------------------------------------------------['us']\n",
      "US------------------------------------------------['us']\n",
      "US------------------------------------------------['us']\n",
      "US------------------------------------------------['us']\n",
      "US------------------------------------------------['us']\n",
      "US------------------------------------------------['us']\n",
      "France--------------------------------------------['fr']\n",
      "en:GB---------------------------------------------['gb']\n"
     ]
    }
   ],
   "source": [
    "for i, e in enumerate(clean_data['countries']):\n",
    "    print(f'{e :-<50}{countries_transformer(e, dic_countries)}')\n",
    "    if i == 10:\n",
    "        break"
   ]
  },
  {
   "cell_type": "markdown",
   "id": "1282df3e",
   "metadata": {},
   "source": [
    "Il ne nous reste plus qu'à appliquer la fonction à l'ensemble du dataset et à convertir les chaînes de caractère en listes python."
   ]
  },
  {
   "cell_type": "raw",
   "id": "e11b7886",
   "metadata": {},
   "source": [
    "clean_data['countries'] = clean_data['countries'].map(lambda f: countries_transformer(f, dic_countries))"
   ]
  },
  {
   "cell_type": "raw",
   "id": "f44eae78",
   "metadata": {},
   "source": [
    "#On convertit la colonne countries du format string au format liste --> Etape à réaliser au début du 2ème notebook\n",
    "\n",
    "from ast import literal_eval\n",
    "\n",
    "clean_data['countries'] = clean_data['countries'].apply(literal_eval)"
   ]
  },
  {
   "cell_type": "markdown",
   "id": "b99740dc",
   "metadata": {},
   "source": [
    "Après avoir utilisé une instance de notebook via le service cloud de Google AI Platform pour répondre aux besoins en puissance de calcul du KNN_imputer et de la fonction clean_data, on utilise la fonction suivante pour récupérer les données nettoyées dans un fichier clean_data.csv. On pourra ainsi réutiliser directement les données qui nous intéressent dans le prochain notebook, pour se concentrer sur l'analyse des variables."
   ]
  },
  {
   "cell_type": "raw",
   "id": "8508d35c",
   "metadata": {},
   "source": [
    "import os\n",
    "\n",
    "if not os.path.exists('preprocessed_data.csv'):\n",
    "    with open('preprocessed_data.csv', 'w'): pass\n",
    "    \n",
    "clean_data.to_csv('preprocessed_data.csv')"
   ]
  }
 ],
 "metadata": {
  "kernelspec": {
   "display_name": "Python 3 (ipykernel)",
   "language": "python",
   "name": "python3"
  },
  "language_info": {
   "codemirror_mode": {
    "name": "ipython",
    "version": 3
   },
   "file_extension": ".py",
   "mimetype": "text/x-python",
   "name": "python",
   "nbconvert_exporter": "python",
   "pygments_lexer": "ipython3",
   "version": "3.8.8"
  }
 },
 "nbformat": 4,
 "nbformat_minor": 5
}
